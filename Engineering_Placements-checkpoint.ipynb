{
 "cells": [
  {
   "cell_type": "markdown",
   "id": "9f6f6b5f",
   "metadata": {},
   "source": [
    "# Importing the dataset"
   ]
  },
  {
   "cell_type": "code",
   "execution_count": 4,
   "id": "bd75fada",
   "metadata": {},
   "outputs": [],
   "source": [
    "# import the dataset using pandas \n",
    "import pandas as pd\n",
    "college_df = pd.read_csv('collegePlace.csv')"
   ]
  },
  {
   "cell_type": "code",
   "execution_count": 5,
   "id": "0514e0aa",
   "metadata": {},
   "outputs": [
    {
     "data": {
      "text/html": [
       "<div>\n",
       "<style scoped>\n",
       "    .dataframe tbody tr th:only-of-type {\n",
       "        vertical-align: middle;\n",
       "    }\n",
       "\n",
       "    .dataframe tbody tr th {\n",
       "        vertical-align: top;\n",
       "    }\n",
       "\n",
       "    .dataframe thead th {\n",
       "        text-align: right;\n",
       "    }\n",
       "</style>\n",
       "<table border=\"1\" class=\"dataframe\">\n",
       "  <thead>\n",
       "    <tr style=\"text-align: right;\">\n",
       "      <th></th>\n",
       "      <th>Age</th>\n",
       "      <th>Gender</th>\n",
       "      <th>Stream</th>\n",
       "      <th>Internships</th>\n",
       "      <th>CGPA</th>\n",
       "      <th>Hostel</th>\n",
       "      <th>HistoryOfBacklogs</th>\n",
       "      <th>PlacedOrNot</th>\n",
       "    </tr>\n",
       "  </thead>\n",
       "  <tbody>\n",
       "    <tr>\n",
       "      <th>0</th>\n",
       "      <td>22</td>\n",
       "      <td>Male</td>\n",
       "      <td>Electronics And Communication</td>\n",
       "      <td>1</td>\n",
       "      <td>8</td>\n",
       "      <td>1</td>\n",
       "      <td>1</td>\n",
       "      <td>1</td>\n",
       "    </tr>\n",
       "    <tr>\n",
       "      <th>1</th>\n",
       "      <td>21</td>\n",
       "      <td>Female</td>\n",
       "      <td>Computer Science</td>\n",
       "      <td>0</td>\n",
       "      <td>7</td>\n",
       "      <td>1</td>\n",
       "      <td>1</td>\n",
       "      <td>1</td>\n",
       "    </tr>\n",
       "    <tr>\n",
       "      <th>2</th>\n",
       "      <td>22</td>\n",
       "      <td>Female</td>\n",
       "      <td>Information Technology</td>\n",
       "      <td>1</td>\n",
       "      <td>6</td>\n",
       "      <td>0</td>\n",
       "      <td>0</td>\n",
       "      <td>1</td>\n",
       "    </tr>\n",
       "    <tr>\n",
       "      <th>3</th>\n",
       "      <td>21</td>\n",
       "      <td>Male</td>\n",
       "      <td>Information Technology</td>\n",
       "      <td>0</td>\n",
       "      <td>8</td>\n",
       "      <td>0</td>\n",
       "      <td>1</td>\n",
       "      <td>1</td>\n",
       "    </tr>\n",
       "    <tr>\n",
       "      <th>4</th>\n",
       "      <td>22</td>\n",
       "      <td>Male</td>\n",
       "      <td>Mechanical</td>\n",
       "      <td>0</td>\n",
       "      <td>8</td>\n",
       "      <td>1</td>\n",
       "      <td>0</td>\n",
       "      <td>1</td>\n",
       "    </tr>\n",
       "    <tr>\n",
       "      <th>...</th>\n",
       "      <td>...</td>\n",
       "      <td>...</td>\n",
       "      <td>...</td>\n",
       "      <td>...</td>\n",
       "      <td>...</td>\n",
       "      <td>...</td>\n",
       "      <td>...</td>\n",
       "      <td>...</td>\n",
       "    </tr>\n",
       "    <tr>\n",
       "      <th>2961</th>\n",
       "      <td>23</td>\n",
       "      <td>Male</td>\n",
       "      <td>Information Technology</td>\n",
       "      <td>0</td>\n",
       "      <td>7</td>\n",
       "      <td>0</td>\n",
       "      <td>0</td>\n",
       "      <td>0</td>\n",
       "    </tr>\n",
       "    <tr>\n",
       "      <th>2962</th>\n",
       "      <td>23</td>\n",
       "      <td>Male</td>\n",
       "      <td>Mechanical</td>\n",
       "      <td>1</td>\n",
       "      <td>7</td>\n",
       "      <td>1</td>\n",
       "      <td>0</td>\n",
       "      <td>0</td>\n",
       "    </tr>\n",
       "    <tr>\n",
       "      <th>2963</th>\n",
       "      <td>22</td>\n",
       "      <td>Male</td>\n",
       "      <td>Information Technology</td>\n",
       "      <td>1</td>\n",
       "      <td>7</td>\n",
       "      <td>0</td>\n",
       "      <td>0</td>\n",
       "      <td>0</td>\n",
       "    </tr>\n",
       "    <tr>\n",
       "      <th>2964</th>\n",
       "      <td>22</td>\n",
       "      <td>Male</td>\n",
       "      <td>Computer Science</td>\n",
       "      <td>1</td>\n",
       "      <td>7</td>\n",
       "      <td>0</td>\n",
       "      <td>0</td>\n",
       "      <td>0</td>\n",
       "    </tr>\n",
       "    <tr>\n",
       "      <th>2965</th>\n",
       "      <td>23</td>\n",
       "      <td>Male</td>\n",
       "      <td>Civil</td>\n",
       "      <td>0</td>\n",
       "      <td>8</td>\n",
       "      <td>0</td>\n",
       "      <td>0</td>\n",
       "      <td>1</td>\n",
       "    </tr>\n",
       "  </tbody>\n",
       "</table>\n",
       "<p>2966 rows × 8 columns</p>\n",
       "</div>"
      ],
      "text/plain": [
       "      Age  Gender                         Stream  Internships  CGPA  Hostel  \\\n",
       "0      22    Male  Electronics And Communication            1     8       1   \n",
       "1      21  Female               Computer Science            0     7       1   \n",
       "2      22  Female         Information Technology            1     6       0   \n",
       "3      21    Male         Information Technology            0     8       0   \n",
       "4      22    Male                     Mechanical            0     8       1   \n",
       "...   ...     ...                            ...          ...   ...     ...   \n",
       "2961   23    Male         Information Technology            0     7       0   \n",
       "2962   23    Male                     Mechanical            1     7       1   \n",
       "2963   22    Male         Information Technology            1     7       0   \n",
       "2964   22    Male               Computer Science            1     7       0   \n",
       "2965   23    Male                          Civil            0     8       0   \n",
       "\n",
       "      HistoryOfBacklogs  PlacedOrNot  \n",
       "0                     1            1  \n",
       "1                     1            1  \n",
       "2                     0            1  \n",
       "3                     1            1  \n",
       "4                     0            1  \n",
       "...                 ...          ...  \n",
       "2961                  0            0  \n",
       "2962                  0            0  \n",
       "2963                  0            0  \n",
       "2964                  0            0  \n",
       "2965                  0            1  \n",
       "\n",
       "[2966 rows x 8 columns]"
      ]
     },
     "execution_count": 5,
     "metadata": {},
     "output_type": "execute_result"
    }
   ],
   "source": [
    "# displaying the dataframe\n",
    "college_df"
   ]
  },
  {
   "cell_type": "code",
   "execution_count": 3,
   "id": "3a9d5313",
   "metadata": {},
   "outputs": [
    {
     "data": {
      "text/plain": [
       "(2966, 8)"
      ]
     },
     "execution_count": 3,
     "metadata": {},
     "output_type": "execute_result"
    }
   ],
   "source": [
    "# checking the shape of the dataset\n",
    "college_df.shape"
   ]
  },
  {
   "cell_type": "code",
   "execution_count": 4,
   "id": "49c4e7e8",
   "metadata": {},
   "outputs": [
    {
     "data": {
      "text/plain": [
       "['Age',\n",
       " 'Gender',\n",
       " 'Stream',\n",
       " 'Internships',\n",
       " 'CGPA',\n",
       " 'Hostel',\n",
       " 'HistoryOfBacklogs',\n",
       " 'PlacedOrNot']"
      ]
     },
     "execution_count": 4,
     "metadata": {},
     "output_type": "execute_result"
    }
   ],
   "source": [
    "# checking the names of the columns\n",
    "college_df.columns.tolist()"
   ]
  },
  {
   "cell_type": "code",
   "execution_count": 5,
   "id": "7c5652dd",
   "metadata": {},
   "outputs": [
    {
     "data": {
      "text/html": [
       "<div>\n",
       "<style scoped>\n",
       "    .dataframe tbody tr th:only-of-type {\n",
       "        vertical-align: middle;\n",
       "    }\n",
       "\n",
       "    .dataframe tbody tr th {\n",
       "        vertical-align: top;\n",
       "    }\n",
       "\n",
       "    .dataframe thead th {\n",
       "        text-align: right;\n",
       "    }\n",
       "</style>\n",
       "<table border=\"1\" class=\"dataframe\">\n",
       "  <thead>\n",
       "    <tr style=\"text-align: right;\">\n",
       "      <th></th>\n",
       "      <th>Age</th>\n",
       "      <th>Gender</th>\n",
       "      <th>Stream</th>\n",
       "      <th>Internships</th>\n",
       "      <th>CGPA</th>\n",
       "      <th>Hostel</th>\n",
       "      <th>HistoryOfBacklogs</th>\n",
       "      <th>PlacedOrNot</th>\n",
       "    </tr>\n",
       "  </thead>\n",
       "  <tbody>\n",
       "    <tr>\n",
       "      <th>0</th>\n",
       "      <td>22</td>\n",
       "      <td>Male</td>\n",
       "      <td>Electronics And Communication</td>\n",
       "      <td>1</td>\n",
       "      <td>8</td>\n",
       "      <td>1</td>\n",
       "      <td>1</td>\n",
       "      <td>1</td>\n",
       "    </tr>\n",
       "    <tr>\n",
       "      <th>1</th>\n",
       "      <td>21</td>\n",
       "      <td>Female</td>\n",
       "      <td>Computer Science</td>\n",
       "      <td>0</td>\n",
       "      <td>7</td>\n",
       "      <td>1</td>\n",
       "      <td>1</td>\n",
       "      <td>1</td>\n",
       "    </tr>\n",
       "    <tr>\n",
       "      <th>2</th>\n",
       "      <td>22</td>\n",
       "      <td>Female</td>\n",
       "      <td>Information Technology</td>\n",
       "      <td>1</td>\n",
       "      <td>6</td>\n",
       "      <td>0</td>\n",
       "      <td>0</td>\n",
       "      <td>1</td>\n",
       "    </tr>\n",
       "    <tr>\n",
       "      <th>3</th>\n",
       "      <td>21</td>\n",
       "      <td>Male</td>\n",
       "      <td>Information Technology</td>\n",
       "      <td>0</td>\n",
       "      <td>8</td>\n",
       "      <td>0</td>\n",
       "      <td>1</td>\n",
       "      <td>1</td>\n",
       "    </tr>\n",
       "    <tr>\n",
       "      <th>4</th>\n",
       "      <td>22</td>\n",
       "      <td>Male</td>\n",
       "      <td>Mechanical</td>\n",
       "      <td>0</td>\n",
       "      <td>8</td>\n",
       "      <td>1</td>\n",
       "      <td>0</td>\n",
       "      <td>1</td>\n",
       "    </tr>\n",
       "    <tr>\n",
       "      <th>5</th>\n",
       "      <td>22</td>\n",
       "      <td>Male</td>\n",
       "      <td>Electronics And Communication</td>\n",
       "      <td>0</td>\n",
       "      <td>6</td>\n",
       "      <td>0</td>\n",
       "      <td>0</td>\n",
       "      <td>0</td>\n",
       "    </tr>\n",
       "    <tr>\n",
       "      <th>6</th>\n",
       "      <td>21</td>\n",
       "      <td>Male</td>\n",
       "      <td>Computer Science</td>\n",
       "      <td>0</td>\n",
       "      <td>7</td>\n",
       "      <td>0</td>\n",
       "      <td>1</td>\n",
       "      <td>0</td>\n",
       "    </tr>\n",
       "    <tr>\n",
       "      <th>7</th>\n",
       "      <td>21</td>\n",
       "      <td>Male</td>\n",
       "      <td>Information Technology</td>\n",
       "      <td>1</td>\n",
       "      <td>7</td>\n",
       "      <td>0</td>\n",
       "      <td>0</td>\n",
       "      <td>0</td>\n",
       "    </tr>\n",
       "    <tr>\n",
       "      <th>8</th>\n",
       "      <td>21</td>\n",
       "      <td>Male</td>\n",
       "      <td>Computer Science</td>\n",
       "      <td>2</td>\n",
       "      <td>6</td>\n",
       "      <td>0</td>\n",
       "      <td>0</td>\n",
       "      <td>1</td>\n",
       "    </tr>\n",
       "    <tr>\n",
       "      <th>9</th>\n",
       "      <td>21</td>\n",
       "      <td>Female</td>\n",
       "      <td>Computer Science</td>\n",
       "      <td>1</td>\n",
       "      <td>6</td>\n",
       "      <td>1</td>\n",
       "      <td>0</td>\n",
       "      <td>0</td>\n",
       "    </tr>\n",
       "  </tbody>\n",
       "</table>\n",
       "</div>"
      ],
      "text/plain": [
       "   Age  Gender                         Stream  Internships  CGPA  Hostel  \\\n",
       "0   22    Male  Electronics And Communication            1     8       1   \n",
       "1   21  Female               Computer Science            0     7       1   \n",
       "2   22  Female         Information Technology            1     6       0   \n",
       "3   21    Male         Information Technology            0     8       0   \n",
       "4   22    Male                     Mechanical            0     8       1   \n",
       "5   22    Male  Electronics And Communication            0     6       0   \n",
       "6   21    Male               Computer Science            0     7       0   \n",
       "7   21    Male         Information Technology            1     7       0   \n",
       "8   21    Male               Computer Science            2     6       0   \n",
       "9   21  Female               Computer Science            1     6       1   \n",
       "\n",
       "   HistoryOfBacklogs  PlacedOrNot  \n",
       "0                  1            1  \n",
       "1                  1            1  \n",
       "2                  0            1  \n",
       "3                  1            1  \n",
       "4                  0            1  \n",
       "5                  0            0  \n",
       "6                  1            0  \n",
       "7                  0            0  \n",
       "8                  0            1  \n",
       "9                  0            0  "
      ]
     },
     "execution_count": 5,
     "metadata": {},
     "output_type": "execute_result"
    }
   ],
   "source": [
    "# displaying the first 10 records\n",
    "college_df.head(10)"
   ]
  },
  {
   "cell_type": "code",
   "execution_count": 6,
   "id": "6f8a185a",
   "metadata": {},
   "outputs": [
    {
     "data": {
      "text/html": [
       "<div>\n",
       "<style scoped>\n",
       "    .dataframe tbody tr th:only-of-type {\n",
       "        vertical-align: middle;\n",
       "    }\n",
       "\n",
       "    .dataframe tbody tr th {\n",
       "        vertical-align: top;\n",
       "    }\n",
       "\n",
       "    .dataframe thead th {\n",
       "        text-align: right;\n",
       "    }\n",
       "</style>\n",
       "<table border=\"1\" class=\"dataframe\">\n",
       "  <thead>\n",
       "    <tr style=\"text-align: right;\">\n",
       "      <th></th>\n",
       "      <th>Age</th>\n",
       "      <th>Gender</th>\n",
       "      <th>Stream</th>\n",
       "      <th>Internships</th>\n",
       "      <th>CGPA</th>\n",
       "      <th>Hostel</th>\n",
       "      <th>HistoryOfBacklogs</th>\n",
       "      <th>PlacedOrNot</th>\n",
       "    </tr>\n",
       "  </thead>\n",
       "  <tbody>\n",
       "    <tr>\n",
       "      <th>2956</th>\n",
       "      <td>22</td>\n",
       "      <td>Male</td>\n",
       "      <td>Computer Science</td>\n",
       "      <td>0</td>\n",
       "      <td>8</td>\n",
       "      <td>0</td>\n",
       "      <td>0</td>\n",
       "      <td>1</td>\n",
       "    </tr>\n",
       "    <tr>\n",
       "      <th>2957</th>\n",
       "      <td>22</td>\n",
       "      <td>Male</td>\n",
       "      <td>Electrical</td>\n",
       "      <td>1</td>\n",
       "      <td>6</td>\n",
       "      <td>0</td>\n",
       "      <td>1</td>\n",
       "      <td>0</td>\n",
       "    </tr>\n",
       "    <tr>\n",
       "      <th>2958</th>\n",
       "      <td>23</td>\n",
       "      <td>Male</td>\n",
       "      <td>Computer Science</td>\n",
       "      <td>0</td>\n",
       "      <td>6</td>\n",
       "      <td>0</td>\n",
       "      <td>1</td>\n",
       "      <td>0</td>\n",
       "    </tr>\n",
       "    <tr>\n",
       "      <th>2959</th>\n",
       "      <td>23</td>\n",
       "      <td>Male</td>\n",
       "      <td>Information Technology</td>\n",
       "      <td>0</td>\n",
       "      <td>7</td>\n",
       "      <td>0</td>\n",
       "      <td>0</td>\n",
       "      <td>0</td>\n",
       "    </tr>\n",
       "    <tr>\n",
       "      <th>2960</th>\n",
       "      <td>23</td>\n",
       "      <td>Male</td>\n",
       "      <td>Mechanical</td>\n",
       "      <td>1</td>\n",
       "      <td>7</td>\n",
       "      <td>1</td>\n",
       "      <td>0</td>\n",
       "      <td>0</td>\n",
       "    </tr>\n",
       "    <tr>\n",
       "      <th>2961</th>\n",
       "      <td>23</td>\n",
       "      <td>Male</td>\n",
       "      <td>Information Technology</td>\n",
       "      <td>0</td>\n",
       "      <td>7</td>\n",
       "      <td>0</td>\n",
       "      <td>0</td>\n",
       "      <td>0</td>\n",
       "    </tr>\n",
       "    <tr>\n",
       "      <th>2962</th>\n",
       "      <td>23</td>\n",
       "      <td>Male</td>\n",
       "      <td>Mechanical</td>\n",
       "      <td>1</td>\n",
       "      <td>7</td>\n",
       "      <td>1</td>\n",
       "      <td>0</td>\n",
       "      <td>0</td>\n",
       "    </tr>\n",
       "    <tr>\n",
       "      <th>2963</th>\n",
       "      <td>22</td>\n",
       "      <td>Male</td>\n",
       "      <td>Information Technology</td>\n",
       "      <td>1</td>\n",
       "      <td>7</td>\n",
       "      <td>0</td>\n",
       "      <td>0</td>\n",
       "      <td>0</td>\n",
       "    </tr>\n",
       "    <tr>\n",
       "      <th>2964</th>\n",
       "      <td>22</td>\n",
       "      <td>Male</td>\n",
       "      <td>Computer Science</td>\n",
       "      <td>1</td>\n",
       "      <td>7</td>\n",
       "      <td>0</td>\n",
       "      <td>0</td>\n",
       "      <td>0</td>\n",
       "    </tr>\n",
       "    <tr>\n",
       "      <th>2965</th>\n",
       "      <td>23</td>\n",
       "      <td>Male</td>\n",
       "      <td>Civil</td>\n",
       "      <td>0</td>\n",
       "      <td>8</td>\n",
       "      <td>0</td>\n",
       "      <td>0</td>\n",
       "      <td>1</td>\n",
       "    </tr>\n",
       "  </tbody>\n",
       "</table>\n",
       "</div>"
      ],
      "text/plain": [
       "      Age Gender                  Stream  Internships  CGPA  Hostel  \\\n",
       "2956   22   Male        Computer Science            0     8       0   \n",
       "2957   22   Male              Electrical            1     6       0   \n",
       "2958   23   Male        Computer Science            0     6       0   \n",
       "2959   23   Male  Information Technology            0     7       0   \n",
       "2960   23   Male              Mechanical            1     7       1   \n",
       "2961   23   Male  Information Technology            0     7       0   \n",
       "2962   23   Male              Mechanical            1     7       1   \n",
       "2963   22   Male  Information Technology            1     7       0   \n",
       "2964   22   Male        Computer Science            1     7       0   \n",
       "2965   23   Male                   Civil            0     8       0   \n",
       "\n",
       "      HistoryOfBacklogs  PlacedOrNot  \n",
       "2956                  0            1  \n",
       "2957                  1            0  \n",
       "2958                  1            0  \n",
       "2959                  0            0  \n",
       "2960                  0            0  \n",
       "2961                  0            0  \n",
       "2962                  0            0  \n",
       "2963                  0            0  \n",
       "2964                  0            0  \n",
       "2965                  0            1  "
      ]
     },
     "execution_count": 6,
     "metadata": {},
     "output_type": "execute_result"
    }
   ],
   "source": [
    "# displaying the last 10 records\n",
    "college_df.tail(10)"
   ]
  },
  {
   "cell_type": "code",
   "execution_count": 7,
   "id": "eccc9c57",
   "metadata": {},
   "outputs": [
    {
     "data": {
      "text/plain": [
       "Age                  False\n",
       "Gender               False\n",
       "Stream               False\n",
       "Internships          False\n",
       "CGPA                 False\n",
       "Hostel               False\n",
       "HistoryOfBacklogs    False\n",
       "PlacedOrNot          False\n",
       "dtype: bool"
      ]
     },
     "execution_count": 7,
     "metadata": {},
     "output_type": "execute_result"
    }
   ],
   "source": [
    "# To check any null values\n",
    "college_df.isnull().any(axis = 0)"
   ]
  },
  {
   "cell_type": "markdown",
   "id": "e21d878a",
   "metadata": {},
   "source": [
    "# Exploratory Data Analysis(EDA)"
   ]
  },
  {
   "cell_type": "code",
   "execution_count": 7,
   "id": "b8d065fd",
   "metadata": {},
   "outputs": [],
   "source": [
    "# Finding the number of males and females\n",
    "males_females = college_df['Gender'].value_counts()"
   ]
  },
  {
   "cell_type": "code",
   "execution_count": 8,
   "id": "a7f7617a",
   "metadata": {},
   "outputs": [
    {
     "data": {
      "text/plain": [
       "Male      2475\n",
       "Female     491\n",
       "Name: Gender, dtype: int64"
      ]
     },
     "execution_count": 8,
     "metadata": {},
     "output_type": "execute_result"
    }
   ],
   "source": [
    "males_females"
   ]
  },
  {
   "cell_type": "code",
   "execution_count": 9,
   "id": "0d3f3592",
   "metadata": {},
   "outputs": [],
   "source": [
    "# fetching the record of males\n",
    "males = college_df[college_df['Gender'] == 'Male'].value_counts()"
   ]
  },
  {
   "cell_type": "code",
   "execution_count": 10,
   "id": "1190237d",
   "metadata": {},
   "outputs": [
    {
     "data": {
      "text/plain": [
       "Age  Gender  Stream                         Internships  CGPA  Hostel  HistoryOfBacklogs  PlacedOrNot\n",
       "21   Male    Computer Science               1            8     0       0                  1              31\n",
       "22   Male    Computer Science               1            8     0       0                  1              26\n",
       "21   Male    Computer Science               1            7     0       0                  0              25\n",
       "             Information Technology         0            8     0       0                  1              23\n",
       "             Electrical                     0            7     0       0                  0              23\n",
       "                                                                                                         ..\n",
       "22   Male    Electronics And Communication  0            6     0       1                  0               1\n",
       "20   Male    Electronics And Communication  1            6     1       1                  0               1\n",
       "22   Male    Electronics And Communication  0            5     0       0                  0               1\n",
       "             Electrical                     3            7     0       0                  0               1\n",
       "30   Male    Computer Science               1            8     0       0                  1               1\n",
       "Length: 846, dtype: int64"
      ]
     },
     "execution_count": 10,
     "metadata": {},
     "output_type": "execute_result"
    }
   ],
   "source": [
    "males"
   ]
  },
  {
   "cell_type": "code",
   "execution_count": 11,
   "id": "65e141b3",
   "metadata": {},
   "outputs": [],
   "source": [
    "# fetching the record of females\n",
    "females = college_df[college_df['Gender'] == 'Female'].value_counts()"
   ]
  },
  {
   "cell_type": "code",
   "execution_count": 12,
   "id": "963abb2b",
   "metadata": {},
   "outputs": [
    {
     "data": {
      "text/plain": [
       "Age  Gender  Stream                  Internships  CGPA  Hostel  HistoryOfBacklogs  PlacedOrNot\n",
       "21   Female  Computer Science        1            8     1       0                  1              12\n",
       "22   Female  Computer Science        1            7     1       0                  0               9\n",
       "21   Female  Information Technology  0            6     0       0                  0               8\n",
       "22   Female  Information Technology  0            8     0       0                  1               7\n",
       "21   Female  Information Technology  0            8     0       0                  1               6\n",
       "                                                                                                  ..\n",
       "                                     1            5     0       0                  0               1\n",
       "                                                        1       0                  0               1\n",
       "                                                  6     0       0                  1               1\n",
       "                                                        1       0                  0               1\n",
       "29   Female  Mechanical              1            8     1       0                  1               1\n",
       "Length: 291, dtype: int64"
      ]
     },
     "execution_count": 12,
     "metadata": {},
     "output_type": "execute_result"
    }
   ],
   "source": [
    "females"
   ]
  },
  {
   "cell_type": "code",
   "execution_count": 13,
   "id": "82ab5d7f",
   "metadata": {},
   "outputs": [
    {
     "name": "stdout",
     "output_type": "stream",
     "text": [
      "83.45% Males\n"
     ]
    }
   ],
   "source": [
    "# finding the percentage of males\n",
    "males_df_percentage = college_df['Gender'].value_counts(normalize=True)['Male']\n",
    "print(str(round(float(males_df_percentage)*100,2)) + \"% Males\")"
   ]
  },
  {
   "cell_type": "code",
   "execution_count": 14,
   "id": "5658bdd1",
   "metadata": {},
   "outputs": [
    {
     "name": "stdout",
     "output_type": "stream",
     "text": [
      "16.55% Females\n"
     ]
    }
   ],
   "source": [
    "# finding the percentage of females\n",
    "females_df_percentage = college_df['Gender'].value_counts(normalize=True)['Female']\n",
    "print(str(round(float(females_df_percentage)*100,2)) + \"% Females\")"
   ]
  },
  {
   "cell_type": "code",
   "execution_count": 6,
   "id": "c42f82b7",
   "metadata": {},
   "outputs": [],
   "source": [
    "# plotting the percentage of males and females\n",
    "import matplotlib.pyplot as plt"
   ]
  },
  {
   "cell_type": "code",
   "execution_count": 16,
   "id": "3e657bbc",
   "metadata": {},
   "outputs": [
    {
     "data": {
      "text/plain": [
       "<AxesSubplot:ylabel='Gender'>"
      ]
     },
     "execution_count": 16,
     "metadata": {},
     "output_type": "execute_result"
    },
    {
     "data": {
      "image/png": "[encoded data removed]",
      "text/plain": [
       "<Figure size 432x288 with 1 Axes>"
      ]
     },
     "metadata": {},
     "output_type": "display_data"
    }
   ],
   "source": [
    "college_df['Gender'].value_counts().plot(kind=\"pie\", autopct=\"%.2f%%\")"
   ]
  },
  {
   "cell_type": "code",
   "execution_count": 17,
   "id": "9404d57f",
   "metadata": {},
   "outputs": [
    {
     "data": {
      "text/plain": [
       "Text(0, 0.5, 'Count')"
      ]
     },
     "execution_count": 17,
     "metadata": {},
     "output_type": "execute_result"
    },
    {
     "data": {
      "image/png": "[encoded data removed]",
      "text/plain": [
       "<Figure size 432x288 with 1 Axes>"
      ]
     },
     "metadata": {
      "needs_background": "light"
     },
     "output_type": "display_data"
    }
   ],
   "source": [
    "# plotting the bar graph of total males and females\n",
    "males_females.plot.bar()\n",
    "plt.title('Total Males and Females')\n",
    "plt.xlabel('Gender')\n",
    "plt.ylabel('Count')"
   ]
  },
  {
   "cell_type": "code",
   "execution_count": 18,
   "id": "9e075efd",
   "metadata": {},
   "outputs": [],
   "source": [
    "# Displaying the streams data\n",
    "streams = college_df['Stream'].value_counts()"
   ]
  },
  {
   "cell_type": "code",
   "execution_count": 19,
   "id": "499696c0",
   "metadata": {},
   "outputs": [
    {
     "data": {
      "text/plain": [
       "Computer Science                 776\n",
       "Information Technology           691\n",
       "Mechanical                       424\n",
       "Electronics And Communication    424\n",
       "Electrical                       334\n",
       "Civil                            317\n",
       "Name: Stream, dtype: int64"
      ]
     },
     "execution_count": 19,
     "metadata": {},
     "output_type": "execute_result"
    }
   ],
   "source": [
    "streams"
   ]
  },
  {
   "cell_type": "code",
   "execution_count": 20,
   "id": "14976e7f",
   "metadata": {},
   "outputs": [],
   "source": [
    "# Finding the number of males and females Stream wise\n",
    "stream_count = college_df.groupby(['Stream'])['Gender'].value_counts()"
   ]
  },
  {
   "cell_type": "code",
   "execution_count": 21,
   "id": "5377fb79",
   "metadata": {},
   "outputs": [
    {
     "data": {
      "text/plain": [
       "Stream                         Gender\n",
       "Civil                          Male      288\n",
       "                               Female     29\n",
       "Computer Science               Male      618\n",
       "                               Female    158\n",
       "Electrical                     Male      284\n",
       "                               Female     50\n",
       "Electronics And Communication  Male      347\n",
       "                               Female     77\n",
       "Information Technology         Male      553\n",
       "                               Female    138\n",
       "Mechanical                     Male      385\n",
       "                               Female     39\n",
       "Name: Gender, dtype: int64"
      ]
     },
     "execution_count": 21,
     "metadata": {},
     "output_type": "execute_result"
    }
   ],
   "source": [
    "stream_count"
   ]
  },
  {
   "cell_type": "code",
   "execution_count": 22,
   "id": "827ccfe8",
   "metadata": {},
   "outputs": [
    {
     "data": {
      "text/plain": [
       "<AxesSubplot:ylabel='Stream'>"
      ]
     },
     "execution_count": 22,
     "metadata": {},
     "output_type": "execute_result"
    },
    {
     "data": {
      "image/png": "[encoded data removed]",
      "text/plain": [
       "<Figure size 432x288 with 1 Axes>"
      ]
     },
     "metadata": {},
     "output_type": "display_data"
    }
   ],
   "source": [
    "# plot the pie chart of different streams percentage wise\n",
    "apart = (0,0.1,0,0,0,0)\n",
    "college_df['Stream'].value_counts().plot(kind=\"pie\", explode=apart, autopct=\"%.2f%%\")"
   ]
  },
  {
   "cell_type": "code",
   "execution_count": 23,
   "id": "8d979925",
   "metadata": {},
   "outputs": [
    {
     "data": {
      "text/plain": [
       "Text(0, 0.5, 'Count')"
      ]
     },
     "execution_count": 23,
     "metadata": {},
     "output_type": "execute_result"
    },
    {
     "data": {
      "image/png": "[encoded data removed]",
      "text/plain": [
       "<Figure size 432x288 with 1 Axes>"
      ]
     },
     "metadata": {
      "needs_background": "light"
     },
     "output_type": "display_data"
    }
   ],
   "source": [
    "# plot the graph of males and female stream wise\n",
    "stream_count.plot.bar()\n",
    "plt.title('Total Males and Females')\n",
    "plt.xlabel('Gender')\n",
    "plt.ylabel('Count')"
   ]
  },
  {
   "cell_type": "code",
   "execution_count": 27,
   "id": "17e7accd",
   "metadata": {},
   "outputs": [],
   "source": [
    "# finding the number of day-scholars\n",
    "hostel_ds = college_df[college_df['Hostel'] == 0].value_counts()"
   ]
  },
  {
   "cell_type": "code",
   "execution_count": 28,
   "id": "bb7f8266",
   "metadata": {},
   "outputs": [
    {
     "data": {
      "text/plain": [
       "Age  Gender  Stream                  Internships  CGPA  Hostel  HistoryOfBacklogs  PlacedOrNot\n",
       "21   Male    Computer Science        1            8     0       0                  1              31\n",
       "22   Male    Computer Science        1            8     0       0                  1              26\n",
       "21   Male    Computer Science        1            7     0       0                  0              25\n",
       "             Information Technology  0            8     0       0                  1              23\n",
       "             Electrical              0            7     0       0                  0              23\n",
       "                                                                                                  ..\n",
       "             Computer Science        1            7     0       1                  1               1\n",
       "                                                                                   0               1\n",
       "                                     0            5     0       1                  0               1\n",
       "             Civil                   3            9     0       0                  1               1\n",
       "30   Male    Computer Science        1            8     0       0                  1               1\n",
       "Length: 756, dtype: int64"
      ]
     },
     "execution_count": 28,
     "metadata": {},
     "output_type": "execute_result"
    }
   ],
   "source": [
    "# displaying the dataframe of day-scholars\n",
    "hostel_ds"
   ]
  },
  {
   "cell_type": "code",
   "execution_count": 29,
   "id": "175770be",
   "metadata": {},
   "outputs": [
    {
     "data": {
      "text/plain": [
       "756"
      ]
     },
     "execution_count": 29,
     "metadata": {},
     "output_type": "execute_result"
    }
   ],
   "source": [
    "len(hostel_ds)"
   ]
  },
  {
   "cell_type": "code",
   "execution_count": 30,
   "id": "48bb30d6",
   "metadata": {},
   "outputs": [],
   "source": [
    "# finding the number of hostelers\n",
    "hosteler = college_df[college_df['Hostel'] == 1].value_counts()"
   ]
  },
  {
   "cell_type": "code",
   "execution_count": 31,
   "id": "7f8b8676",
   "metadata": {},
   "outputs": [
    {
     "data": {
      "text/plain": [
       "Age  Gender  Stream                         Internships  CGPA  Hostel  HistoryOfBacklogs  PlacedOrNot\n",
       "21   Male    Mechanical                     0            8     1       0                  1              20\n",
       "22   Male    Mechanical                     0            8     1       0                  1              20\n",
       "21   Male    Mechanical                     0            7     1       0                  0              17\n",
       "22   Male    Mechanical                     0            6     1       0                  0              15\n",
       "                                                         7     1       0                  0              14\n",
       "                                                                                                         ..\n",
       "21   Male    Electrical                     2            6     1       1                  1               1\n",
       "                                            3            6     1       1                  0               1\n",
       "             Electronics And Communication  1            6     1       1                  1               1\n",
       "                                                         7     1       1                  0               1\n",
       "29   Female  Mechanical                     1            8     1       0                  1               1\n",
       "Length: 381, dtype: int64"
      ]
     },
     "execution_count": 31,
     "metadata": {},
     "output_type": "execute_result"
    }
   ],
   "source": [
    "# displaying the dataframe of hostelers\n",
    "hosteler"
   ]
  },
  {
   "cell_type": "code",
   "execution_count": 32,
   "id": "1a449eca",
   "metadata": {},
   "outputs": [
    {
     "data": {
      "text/plain": [
       "381"
      ]
     },
     "execution_count": 32,
     "metadata": {},
     "output_type": "execute_result"
    }
   ],
   "source": [
    "len(hosteler)"
   ]
  },
  {
   "cell_type": "code",
   "execution_count": 35,
   "id": "71190c34",
   "metadata": {},
   "outputs": [],
   "source": [
    "# finding the number of hostelers and day-scholars\n",
    "hostel = college_df['Hostel'].value_counts()"
   ]
  },
  {
   "cell_type": "code",
   "execution_count": 36,
   "id": "7a56c842",
   "metadata": {},
   "outputs": [
    {
     "data": {
      "text/plain": [
       "0    2168\n",
       "1     798\n",
       "Name: Hostel, dtype: int64"
      ]
     },
     "execution_count": 36,
     "metadata": {},
     "output_type": "execute_result"
    }
   ],
   "source": [
    "hostel"
   ]
  },
  {
   "cell_type": "code",
   "execution_count": 51,
   "id": "c08baf4f",
   "metadata": {},
   "outputs": [
    {
     "data": {
      "text/plain": [
       "Text(0, 0.5, 'Count')"
      ]
     },
     "execution_count": 51,
     "metadata": {},
     "output_type": "execute_result"
    },
    {
     "data": {
      "image/png": "[encoded data removed]",
      "text/plain": [
       "<Figure size 432x288 with 1 Axes>"
      ]
     },
     "metadata": {
      "needs_background": "light"
     },
     "output_type": "display_data"
    }
   ],
   "source": [
    "# plot the graph of hostel information\n",
    "# 0 means day-scholar and 1 means hosteler\n",
    "hostel.plot.bar(color = ['blue', 'red'])\n",
    "plt.title('Hostelers Vs Day-scholars')\n",
    "plt.xlabel('Hostel status')\n",
    "plt.ylabel('Count')"
   ]
  },
  {
   "cell_type": "code",
   "execution_count": 39,
   "id": "de97db22",
   "metadata": {},
   "outputs": [
    {
     "name": "stdout",
     "output_type": "stream",
     "text": [
      "5\n"
     ]
    }
   ],
   "source": [
    "# calculating the minimum cgpa\n",
    "print(college_df['CGPA'].min())"
   ]
  },
  {
   "cell_type": "code",
   "execution_count": 40,
   "id": "296a05e5",
   "metadata": {},
   "outputs": [
    {
     "name": "stdout",
     "output_type": "stream",
     "text": [
      "9\n"
     ]
    }
   ],
   "source": [
    "# calculating the maximum cgpa\n",
    "print(college_df['CGPA'].max())"
   ]
  },
  {
   "cell_type": "code",
   "execution_count": 41,
   "id": "8d43809a",
   "metadata": {},
   "outputs": [],
   "source": [
    "# checking the placement status based on cgpa\n",
    "cgpa_count = college_df.groupby(['CGPA'])['PlacedOrNot'].value_counts()"
   ]
  },
  {
   "cell_type": "code",
   "execution_count": 42,
   "id": "9d187553",
   "metadata": {},
   "outputs": [
    {
     "data": {
      "text/plain": [
       "CGPA  PlacedOrNot\n",
       "5     0               89\n",
       "      1                7\n",
       "6     0              564\n",
       "      1              270\n",
       "7     0              674\n",
       "      1              282\n",
       "8     1              915\n",
       "9     1              165\n",
       "Name: PlacedOrNot, dtype: int64"
      ]
     },
     "execution_count": 42,
     "metadata": {},
     "output_type": "execute_result"
    }
   ],
   "source": [
    "cgpa_count"
   ]
  },
  {
   "cell_type": "code",
   "execution_count": 50,
   "id": "a74ad2fc",
   "metadata": {},
   "outputs": [
    {
     "data": {
      "text/plain": [
       "Text(0, 0.5, 'Count')"
      ]
     },
     "execution_count": 50,
     "metadata": {},
     "output_type": "execute_result"
    },
    {
     "data": {
      "image/png": "[encoded data removed]",
      "text/plain": [
       "<Figure size 432x288 with 1 Axes>"
      ]
     },
     "metadata": {
      "needs_background": "light"
     },
     "output_type": "display_data"
    }
   ],
   "source": [
    "# plotting the bar chart of cgpa_count\n",
    "cgpa_count.plot.bar(color =['black', 'red', 'green', 'blue', 'cyan', 'yellow', 'purple', 'brown'])\n",
    "plt.title('Cgpa Vs PlacedOrNot')\n",
    "plt.xlabel('CGPA')\n",
    "plt.ylabel('Count')"
   ]
  },
  {
   "cell_type": "code",
   "execution_count": 52,
   "id": "7785544e",
   "metadata": {},
   "outputs": [],
   "source": [
    "# internships Vs PlacedOrNot\n",
    "intern_count = college_df.groupby(['Internships'])['PlacedOrNot'].value_counts()"
   ]
  },
  {
   "cell_type": "code",
   "execution_count": 53,
   "id": "18d8130e",
   "metadata": {},
   "outputs": [
    {
     "data": {
      "text/plain": [
       "Internships  PlacedOrNot\n",
       "0            0              677\n",
       "             1              654\n",
       "1            1              662\n",
       "             0              572\n",
       "2            1              282\n",
       "             0               68\n",
       "3            1               41\n",
       "             0               10\n",
       "Name: PlacedOrNot, dtype: int64"
      ]
     },
     "execution_count": 53,
     "metadata": {},
     "output_type": "execute_result"
    }
   ],
   "source": [
    "intern_count"
   ]
  },
  {
   "cell_type": "code",
   "execution_count": 61,
   "id": "2064ac9c",
   "metadata": {},
   "outputs": [
    {
     "data": {
      "text/plain": [
       "Text(0, 0.5, 'Placement Count')"
      ]
     },
     "execution_count": 61,
     "metadata": {},
     "output_type": "execute_result"
    },
    {
     "data": {
      "image/png": "[encoded data removed]",
      "text/plain": [
       "<Figure size 432x288 with 1 Axes>"
      ]
     },
     "metadata": {
      "needs_background": "light"
     },
     "output_type": "display_data"
    }
   ],
   "source": [
    "# plotting the bar graph \n",
    "intern_count.plot.bar(color =['black', 'black', 'green', 'green', 'red', 'red', 'purple', 'purple'])\n",
    "plt.title('Internships Vs PlacedOrNot')\n",
    "plt.xlabel('No. of Internships')\n",
    "plt.ylabel('Placement Count')"
   ]
  },
  {
   "cell_type": "code",
   "execution_count": 73,
   "id": "1773db7f",
   "metadata": {},
   "outputs": [],
   "source": [
    "# grouping by age\n",
    "age_df = college_df.groupby('Age')"
   ]
  },
  {
   "cell_type": "code",
   "execution_count": 80,
   "id": "9b236364",
   "metadata": {},
   "outputs": [
    {
     "data": {
      "text/html": [
       "<div>\n",
       "<style scoped>\n",
       "    .dataframe tbody tr th:only-of-type {\n",
       "        vertical-align: middle;\n",
       "    }\n",
       "\n",
       "    .dataframe tbody tr th {\n",
       "        vertical-align: top;\n",
       "    }\n",
       "\n",
       "    .dataframe thead th {\n",
       "        text-align: right;\n",
       "    }\n",
       "</style>\n",
       "<table border=\"1\" class=\"dataframe\">\n",
       "  <thead>\n",
       "    <tr style=\"text-align: right;\">\n",
       "      <th></th>\n",
       "      <th>Gender</th>\n",
       "      <th>Stream</th>\n",
       "      <th>Internships</th>\n",
       "      <th>CGPA</th>\n",
       "      <th>Hostel</th>\n",
       "      <th>HistoryOfBacklogs</th>\n",
       "      <th>PlacedOrNot</th>\n",
       "    </tr>\n",
       "    <tr>\n",
       "      <th>Age</th>\n",
       "      <th></th>\n",
       "      <th></th>\n",
       "      <th></th>\n",
       "      <th></th>\n",
       "      <th></th>\n",
       "      <th></th>\n",
       "      <th></th>\n",
       "    </tr>\n",
       "  </thead>\n",
       "  <tbody>\n",
       "    <tr>\n",
       "      <th>19</th>\n",
       "      <td>Female</td>\n",
       "      <td>Information Technology</td>\n",
       "      <td>1</td>\n",
       "      <td>8</td>\n",
       "      <td>0</td>\n",
       "      <td>1</td>\n",
       "      <td>1</td>\n",
       "    </tr>\n",
       "    <tr>\n",
       "      <th>20</th>\n",
       "      <td>Female</td>\n",
       "      <td>Electrical</td>\n",
       "      <td>1</td>\n",
       "      <td>7</td>\n",
       "      <td>0</td>\n",
       "      <td>1</td>\n",
       "      <td>0</td>\n",
       "    </tr>\n",
       "    <tr>\n",
       "      <th>21</th>\n",
       "      <td>Female</td>\n",
       "      <td>Computer Science</td>\n",
       "      <td>0</td>\n",
       "      <td>7</td>\n",
       "      <td>1</td>\n",
       "      <td>1</td>\n",
       "      <td>1</td>\n",
       "    </tr>\n",
       "    <tr>\n",
       "      <th>22</th>\n",
       "      <td>Male</td>\n",
       "      <td>Electronics And Communication</td>\n",
       "      <td>1</td>\n",
       "      <td>8</td>\n",
       "      <td>1</td>\n",
       "      <td>1</td>\n",
       "      <td>1</td>\n",
       "    </tr>\n",
       "    <tr>\n",
       "      <th>23</th>\n",
       "      <td>Male</td>\n",
       "      <td>Computer Science</td>\n",
       "      <td>0</td>\n",
       "      <td>7</td>\n",
       "      <td>0</td>\n",
       "      <td>0</td>\n",
       "      <td>1</td>\n",
       "    </tr>\n",
       "    <tr>\n",
       "      <th>24</th>\n",
       "      <td>Male</td>\n",
       "      <td>Information Technology</td>\n",
       "      <td>2</td>\n",
       "      <td>6</td>\n",
       "      <td>0</td>\n",
       "      <td>0</td>\n",
       "      <td>1</td>\n",
       "    </tr>\n",
       "    <tr>\n",
       "      <th>25</th>\n",
       "      <td>Male</td>\n",
       "      <td>Computer Science</td>\n",
       "      <td>0</td>\n",
       "      <td>7</td>\n",
       "      <td>0</td>\n",
       "      <td>0</td>\n",
       "      <td>0</td>\n",
       "    </tr>\n",
       "    <tr>\n",
       "      <th>26</th>\n",
       "      <td>Male</td>\n",
       "      <td>Electronics And Communication</td>\n",
       "      <td>2</td>\n",
       "      <td>6</td>\n",
       "      <td>0</td>\n",
       "      <td>0</td>\n",
       "      <td>1</td>\n",
       "    </tr>\n",
       "    <tr>\n",
       "      <th>28</th>\n",
       "      <td>Male</td>\n",
       "      <td>Civil</td>\n",
       "      <td>0</td>\n",
       "      <td>8</td>\n",
       "      <td>1</td>\n",
       "      <td>0</td>\n",
       "      <td>1</td>\n",
       "    </tr>\n",
       "    <tr>\n",
       "      <th>29</th>\n",
       "      <td>Female</td>\n",
       "      <td>Mechanical</td>\n",
       "      <td>1</td>\n",
       "      <td>8</td>\n",
       "      <td>1</td>\n",
       "      <td>0</td>\n",
       "      <td>1</td>\n",
       "    </tr>\n",
       "    <tr>\n",
       "      <th>30</th>\n",
       "      <td>Male</td>\n",
       "      <td>Computer Science</td>\n",
       "      <td>1</td>\n",
       "      <td>8</td>\n",
       "      <td>0</td>\n",
       "      <td>0</td>\n",
       "      <td>1</td>\n",
       "    </tr>\n",
       "  </tbody>\n",
       "</table>\n",
       "</div>"
      ],
      "text/plain": [
       "     Gender                         Stream  Internships  CGPA  Hostel  \\\n",
       "Age                                                                     \n",
       "19   Female         Information Technology            1     8       0   \n",
       "20   Female                     Electrical            1     7       0   \n",
       "21   Female               Computer Science            0     7       1   \n",
       "22     Male  Electronics And Communication            1     8       1   \n",
       "23     Male               Computer Science            0     7       0   \n",
       "24     Male         Information Technology            2     6       0   \n",
       "25     Male               Computer Science            0     7       0   \n",
       "26     Male  Electronics And Communication            2     6       0   \n",
       "28     Male                          Civil            0     8       1   \n",
       "29   Female                     Mechanical            1     8       1   \n",
       "30     Male               Computer Science            1     8       0   \n",
       "\n",
       "     HistoryOfBacklogs  PlacedOrNot  \n",
       "Age                                  \n",
       "19                   1            1  \n",
       "20                   1            0  \n",
       "21                   1            1  \n",
       "22                   1            1  \n",
       "23                   0            1  \n",
       "24                   0            1  \n",
       "25                   0            0  \n",
       "26                   0            1  \n",
       "28                   0            1  \n",
       "29                   0            1  \n",
       "30                   0            1  "
      ]
     },
     "execution_count": 80,
     "metadata": {},
     "output_type": "execute_result"
    }
   ],
   "source": [
    "# Printing the first entries in all the groups present\n",
    "age_df.first()"
   ]
  },
  {
   "cell_type": "code",
   "execution_count": 93,
   "id": "e1cbd5da",
   "metadata": {},
   "outputs": [],
   "source": [
    "# finding the mean age of students\n",
    "avg_age = college_df['Age'].mean()"
   ]
  },
  {
   "cell_type": "code",
   "execution_count": 94,
   "id": "0467e773",
   "metadata": {},
   "outputs": [
    {
     "data": {
      "text/plain": [
       "21.48583951449764"
      ]
     },
     "execution_count": 94,
     "metadata": {},
     "output_type": "execute_result"
    }
   ],
   "source": [
    "avg_age"
   ]
  },
  {
   "cell_type": "code",
   "execution_count": 7,
   "id": "a694555b",
   "metadata": {},
   "outputs": [],
   "source": [
    "# finding the placement status on the basis of active backlogs\n",
    "backlogs = college_df.groupby(['HistoryOfBacklogs'])['PlacedOrNot'].value_counts()"
   ]
  },
  {
   "cell_type": "code",
   "execution_count": 8,
   "id": "80cb490a",
   "metadata": {},
   "outputs": [
    {
     "data": {
      "text/plain": [
       "HistoryOfBacklogs  PlacedOrNot\n",
       "0                  1              1337\n",
       "                   0              1059\n",
       "1                  1               302\n",
       "                   0               268\n",
       "Name: PlacedOrNot, dtype: int64"
      ]
     },
     "execution_count": 8,
     "metadata": {},
     "output_type": "execute_result"
    }
   ],
   "source": [
    "backlogs"
   ]
  },
  {
   "cell_type": "code",
   "execution_count": 17,
   "id": "c91f2519",
   "metadata": {},
   "outputs": [
    {
     "data": {
      "text/plain": [
       "<matplotlib.legend.Legend at 0x22be8cdf670>"
      ]
     },
     "execution_count": 17,
     "metadata": {},
     "output_type": "execute_result"
    },
    {
     "data": {
      "image/png": "[encoded data removed]",
      "text/plain": [
       "<Figure size 432x288 with 1 Axes>"
      ]
     },
     "metadata": {
      "needs_background": "light"
     },
     "output_type": "display_data"
    }
   ],
   "source": [
    "# plotting the stacked bar graph of Active backlogs Vs Placed or Not\n",
    "labels = ['0', '1']\n",
    "not_placed = [1059,268]\n",
    "placed = [1337, 302]\n",
    "\n",
    "width = 0.35      \n",
    "\n",
    "fig, ax = plt.subplots()\n",
    "\n",
    "ax.bar(labels, not_placed, width, label='Not Placed',color = 'Red')\n",
    "ax.bar(labels, placed , width, bottom=not_placed,\n",
    "       label='Placed',color = 'Green')\n",
    "ax.set_xlabel('Backlogs')\n",
    "ax.set_ylabel('Count')\n",
    "ax.set_title('Active backlogs vs Placed or not')\n",
    "ax.legend()"
   ]
  },
  {
   "cell_type": "code",
   "execution_count": 18,
   "id": "e2e36837",
   "metadata": {},
   "outputs": [],
   "source": [
    "# Streams Vs Placed or Not\n",
    "stream_df = college_df.groupby(['Stream'])['PlacedOrNot'].value_counts()"
   ]
  },
  {
   "cell_type": "code",
   "execution_count": 19,
   "id": "ac84d37c",
   "metadata": {},
   "outputs": [
    {
     "data": {
      "text/plain": [
       "Stream                         PlacedOrNot\n",
       "Civil                          0              171\n",
       "                               1              146\n",
       "Computer Science               1              452\n",
       "                               0              324\n",
       "Electrical                     1              181\n",
       "                               0              153\n",
       "Electronics And Communication  1              251\n",
       "                               0              173\n",
       "Information Technology         1              409\n",
       "                               0              282\n",
       "Mechanical                     0              224\n",
       "                               1              200\n",
       "Name: PlacedOrNot, dtype: int64"
      ]
     },
     "execution_count": 19,
     "metadata": {},
     "output_type": "execute_result"
    }
   ],
   "source": [
    "stream_df"
   ]
  },
  {
   "cell_type": "code",
   "execution_count": 21,
   "id": "24672eb9",
   "metadata": {},
   "outputs": [
    {
     "data": {
      "image/png": "[encoded data removed]",
      "text/plain": [
       "<Figure size 432x288 with 1 Axes>"
      ]
     },
     "metadata": {
      "needs_background": "light"
     },
     "output_type": "display_data"
    }
   ],
   "source": [
    "# plotting the grouped bar chart of Streams Vs Placed Or Not\n",
    "import numpy as np\n",
    "\n",
    "\n",
    "labels = ['CE','CSE','EE','ECE','IT','ME']\n",
    "not_placed = [171,324,153,173,282,224]\n",
    "placed = [146,452,181,251,409,200]\n",
    "\n",
    "x = np.arange(len(labels))\n",
    "width = 0.35  # the width of the bars\n",
    "\n",
    "fig, ax = plt.subplots()\n",
    "rects1 = ax.bar(x - width/2, not_placed, width, label='Not Placed')\n",
    "rects2 = ax.bar(x + width/2, placed, width, label='Placed')\n",
    "\n",
    "# Add some text for labels, title and custom x-axis tick labels, etc.\n",
    "ax.set_xlabel('Streams')\n",
    "ax.set_ylabel('Count')\n",
    "ax.set_title('Streams Vs Placed Or Not')\n",
    "ax.set_xticks(x)\n",
    "ax.set_xticklabels(labels)\n",
    "ax.legend()\n",
    "\n",
    "\n",
    "\n",
    "fig.tight_layout()\n",
    "\n",
    "plt.show()"
   ]
  },
  {
   "cell_type": "markdown",
   "id": "5892152c",
   "metadata": {},
   "source": [
    "# Predictive model using K-Nearest Neighbours"
   ]
  },
  {
   "cell_type": "code",
   "execution_count": 83,
   "id": "59b2f175",
   "metadata": {},
   "outputs": [],
   "source": [
    "# importing the libraries\n",
    "import pandas as pd\n",
    "import numpy as np\n",
    "import matplotlib.pyplot as plt"
   ]
  },
  {
   "cell_type": "code",
   "execution_count": 58,
   "id": "4a55c1a3",
   "metadata": {},
   "outputs": [],
   "source": [
    "# importing the dataset\n",
    "dataset = pd.read_csv('collegePlace.csv')"
   ]
  },
  {
   "cell_type": "code",
   "execution_count": 59,
   "id": "c2d359d5",
   "metadata": {},
   "outputs": [
    {
     "data": {
      "text/html": [
       "<div>\n",
       "<style scoped>\n",
       "    .dataframe tbody tr th:only-of-type {\n",
       "        vertical-align: middle;\n",
       "    }\n",
       "\n",
       "    .dataframe tbody tr th {\n",
       "        vertical-align: top;\n",
       "    }\n",
       "\n",
       "    .dataframe thead th {\n",
       "        text-align: right;\n",
       "    }\n",
       "</style>\n",
       "<table border=\"1\" class=\"dataframe\">\n",
       "  <thead>\n",
       "    <tr style=\"text-align: right;\">\n",
       "      <th></th>\n",
       "      <th>Age</th>\n",
       "      <th>Gender</th>\n",
       "      <th>Stream</th>\n",
       "      <th>Internships</th>\n",
       "      <th>CGPA</th>\n",
       "      <th>Hostel</th>\n",
       "      <th>HistoryOfBacklogs</th>\n",
       "      <th>PlacedOrNot</th>\n",
       "    </tr>\n",
       "  </thead>\n",
       "  <tbody>\n",
       "    <tr>\n",
       "      <th>0</th>\n",
       "      <td>22</td>\n",
       "      <td>Male</td>\n",
       "      <td>Electronics And Communication</td>\n",
       "      <td>1</td>\n",
       "      <td>8</td>\n",
       "      <td>1</td>\n",
       "      <td>1</td>\n",
       "      <td>1</td>\n",
       "    </tr>\n",
       "    <tr>\n",
       "      <th>1</th>\n",
       "      <td>21</td>\n",
       "      <td>Female</td>\n",
       "      <td>Computer Science</td>\n",
       "      <td>0</td>\n",
       "      <td>7</td>\n",
       "      <td>1</td>\n",
       "      <td>1</td>\n",
       "      <td>1</td>\n",
       "    </tr>\n",
       "    <tr>\n",
       "      <th>2</th>\n",
       "      <td>22</td>\n",
       "      <td>Female</td>\n",
       "      <td>Information Technology</td>\n",
       "      <td>1</td>\n",
       "      <td>6</td>\n",
       "      <td>0</td>\n",
       "      <td>0</td>\n",
       "      <td>1</td>\n",
       "    </tr>\n",
       "    <tr>\n",
       "      <th>3</th>\n",
       "      <td>21</td>\n",
       "      <td>Male</td>\n",
       "      <td>Information Technology</td>\n",
       "      <td>0</td>\n",
       "      <td>8</td>\n",
       "      <td>0</td>\n",
       "      <td>1</td>\n",
       "      <td>1</td>\n",
       "    </tr>\n",
       "    <tr>\n",
       "      <th>4</th>\n",
       "      <td>22</td>\n",
       "      <td>Male</td>\n",
       "      <td>Mechanical</td>\n",
       "      <td>0</td>\n",
       "      <td>8</td>\n",
       "      <td>1</td>\n",
       "      <td>0</td>\n",
       "      <td>1</td>\n",
       "    </tr>\n",
       "    <tr>\n",
       "      <th>...</th>\n",
       "      <td>...</td>\n",
       "      <td>...</td>\n",
       "      <td>...</td>\n",
       "      <td>...</td>\n",
       "      <td>...</td>\n",
       "      <td>...</td>\n",
       "      <td>...</td>\n",
       "      <td>...</td>\n",
       "    </tr>\n",
       "    <tr>\n",
       "      <th>2961</th>\n",
       "      <td>23</td>\n",
       "      <td>Male</td>\n",
       "      <td>Information Technology</td>\n",
       "      <td>0</td>\n",
       "      <td>7</td>\n",
       "      <td>0</td>\n",
       "      <td>0</td>\n",
       "      <td>0</td>\n",
       "    </tr>\n",
       "    <tr>\n",
       "      <th>2962</th>\n",
       "      <td>23</td>\n",
       "      <td>Male</td>\n",
       "      <td>Mechanical</td>\n",
       "      <td>1</td>\n",
       "      <td>7</td>\n",
       "      <td>1</td>\n",
       "      <td>0</td>\n",
       "      <td>0</td>\n",
       "    </tr>\n",
       "    <tr>\n",
       "      <th>2963</th>\n",
       "      <td>22</td>\n",
       "      <td>Male</td>\n",
       "      <td>Information Technology</td>\n",
       "      <td>1</td>\n",
       "      <td>7</td>\n",
       "      <td>0</td>\n",
       "      <td>0</td>\n",
       "      <td>0</td>\n",
       "    </tr>\n",
       "    <tr>\n",
       "      <th>2964</th>\n",
       "      <td>22</td>\n",
       "      <td>Male</td>\n",
       "      <td>Computer Science</td>\n",
       "      <td>1</td>\n",
       "      <td>7</td>\n",
       "      <td>0</td>\n",
       "      <td>0</td>\n",
       "      <td>0</td>\n",
       "    </tr>\n",
       "    <tr>\n",
       "      <th>2965</th>\n",
       "      <td>23</td>\n",
       "      <td>Male</td>\n",
       "      <td>Civil</td>\n",
       "      <td>0</td>\n",
       "      <td>8</td>\n",
       "      <td>0</td>\n",
       "      <td>0</td>\n",
       "      <td>1</td>\n",
       "    </tr>\n",
       "  </tbody>\n",
       "</table>\n",
       "<p>2966 rows × 8 columns</p>\n",
       "</div>"
      ],
      "text/plain": [
       "      Age  Gender                         Stream  Internships  CGPA  Hostel  \\\n",
       "0      22    Male  Electronics And Communication            1     8       1   \n",
       "1      21  Female               Computer Science            0     7       1   \n",
       "2      22  Female         Information Technology            1     6       0   \n",
       "3      21    Male         Information Technology            0     8       0   \n",
       "4      22    Male                     Mechanical            0     8       1   \n",
       "...   ...     ...                            ...          ...   ...     ...   \n",
       "2961   23    Male         Information Technology            0     7       0   \n",
       "2962   23    Male                     Mechanical            1     7       1   \n",
       "2963   22    Male         Information Technology            1     7       0   \n",
       "2964   22    Male               Computer Science            1     7       0   \n",
       "2965   23    Male                          Civil            0     8       0   \n",
       "\n",
       "      HistoryOfBacklogs  PlacedOrNot  \n",
       "0                     1            1  \n",
       "1                     1            1  \n",
       "2                     0            1  \n",
       "3                     1            1  \n",
       "4                     0            1  \n",
       "...                 ...          ...  \n",
       "2961                  0            0  \n",
       "2962                  0            0  \n",
       "2963                  0            0  \n",
       "2964                  0            0  \n",
       "2965                  0            1  \n",
       "\n",
       "[2966 rows x 8 columns]"
      ]
     },
     "execution_count": 59,
     "metadata": {},
     "output_type": "execute_result"
    }
   ],
   "source": [
    "dataset"
   ]
  },
  {
   "cell_type": "code",
   "execution_count": 60,
   "id": "d92c36ef",
   "metadata": {},
   "outputs": [],
   "source": [
    "# separating out features and labels\n",
    "features = dataset.iloc[:,0:7].values\n",
    "labels = dataset.iloc[:,-1].values"
   ]
  },
  {
   "cell_type": "code",
   "execution_count": 5,
   "id": "576bb232",
   "metadata": {},
   "outputs": [
    {
     "data": {
      "text/plain": [
       "array([[22, 'Male', 'Electronics And Communication', ..., 8, 1, 1],\n",
       "       [21, 'Female', 'Computer Science', ..., 7, 1, 1],\n",
       "       [22, 'Female', 'Information Technology', ..., 6, 0, 0],\n",
       "       ...,\n",
       "       [22, 'Male', 'Information Technology', ..., 7, 0, 0],\n",
       "       [22, 'Male', 'Computer Science', ..., 7, 0, 0],\n",
       "       [23, 'Male', 'Civil', ..., 8, 0, 0]], dtype=object)"
      ]
     },
     "execution_count": 5,
     "metadata": {},
     "output_type": "execute_result"
    }
   ],
   "source": [
    "# displaying the features data\n",
    "features"
   ]
  },
  {
   "cell_type": "code",
   "execution_count": 6,
   "id": "e9d0f26c",
   "metadata": {},
   "outputs": [
    {
     "data": {
      "text/plain": [
       "array([1, 1, 1, ..., 0, 0, 1], dtype=int64)"
      ]
     },
     "execution_count": 6,
     "metadata": {},
     "output_type": "execute_result"
    }
   ],
   "source": [
    "# displaying the labels data\n",
    "labels"
   ]
  },
  {
   "cell_type": "code",
   "execution_count": 61,
   "id": "bf3e9f27",
   "metadata": {},
   "outputs": [],
   "source": [
    "# converting the categorical values to numeric values using OneHotEncoding\n",
    "from sklearn.preprocessing import OneHotEncoder\n",
    "from sklearn.compose import ColumnTransformer\n",
    "cTransformer = ColumnTransformer([('encoder', OneHotEncoder(), [1,2])], remainder = 'passthrough')\n",
    "import numpy as np\n",
    "features = np.array(cTransformer.fit_transform(features), dtype = np.float32)"
   ]
  },
  {
   "cell_type": "code",
   "execution_count": 62,
   "id": "adcb2765",
   "metadata": {},
   "outputs": [
    {
     "data": {
      "text/plain": [
       "array([[0., 1., 0., ..., 8., 1., 1.],\n",
       "       [1., 0., 0., ..., 7., 1., 1.],\n",
       "       [1., 0., 0., ..., 6., 0., 0.],\n",
       "       ...,\n",
       "       [0., 1., 0., ..., 7., 0., 0.],\n",
       "       [0., 1., 0., ..., 7., 0., 0.],\n",
       "       [0., 1., 1., ..., 8., 0., 0.]], dtype=float32)"
      ]
     },
     "execution_count": 62,
     "metadata": {},
     "output_type": "execute_result"
    }
   ],
   "source": [
    "features"
   ]
  },
  {
   "cell_type": "code",
   "execution_count": 9,
   "id": "dabb9781",
   "metadata": {},
   "outputs": [
    {
     "data": {
      "text/plain": [
       "2966"
      ]
     },
     "execution_count": 9,
     "metadata": {},
     "output_type": "execute_result"
    }
   ],
   "source": [
    "len(features)"
   ]
  },
  {
   "cell_type": "code",
   "execution_count": 10,
   "id": "a6ebdda6",
   "metadata": {},
   "outputs": [
    {
     "data": {
      "text/plain": [
       "(2966, 13)"
      ]
     },
     "execution_count": 10,
     "metadata": {},
     "output_type": "execute_result"
    }
   ],
   "source": [
    "features.shape"
   ]
  },
  {
   "cell_type": "code",
   "execution_count": 63,
   "id": "b76e0666",
   "metadata": {},
   "outputs": [],
   "source": [
    "features = features[:, 1:]"
   ]
  },
  {
   "cell_type": "code",
   "execution_count": 64,
   "id": "99f35995",
   "metadata": {},
   "outputs": [
    {
     "data": {
      "text/plain": [
       "array([[1., 0., 0., ..., 8., 1., 1.],\n",
       "       [0., 0., 1., ..., 7., 1., 1.],\n",
       "       [0., 0., 0., ..., 6., 0., 0.],\n",
       "       ...,\n",
       "       [1., 0., 0., ..., 7., 0., 0.],\n",
       "       [1., 0., 1., ..., 7., 0., 0.],\n",
       "       [1., 1., 0., ..., 8., 0., 0.]], dtype=float32)"
      ]
     },
     "execution_count": 64,
     "metadata": {},
     "output_type": "execute_result"
    }
   ],
   "source": [
    "features"
   ]
  },
  {
   "cell_type": "code",
   "execution_count": 65,
   "id": "62df996e",
   "metadata": {},
   "outputs": [
    {
     "data": {
      "text/plain": [
       "(2966, 12)"
      ]
     },
     "execution_count": 65,
     "metadata": {},
     "output_type": "execute_result"
    }
   ],
   "source": [
    "features.shape"
   ]
  },
  {
   "cell_type": "code",
   "execution_count": 66,
   "id": "a30f9234",
   "metadata": {},
   "outputs": [],
   "source": [
    "features = features[:, [0,2,3,4,5,6,7,8,9,10,11]]"
   ]
  },
  {
   "cell_type": "code",
   "execution_count": 67,
   "id": "ea5922d5",
   "metadata": {},
   "outputs": [
    {
     "data": {
      "text/plain": [
       "array([[1., 0., 0., ..., 8., 1., 1.],\n",
       "       [0., 1., 0., ..., 7., 1., 1.],\n",
       "       [0., 0., 0., ..., 6., 0., 0.],\n",
       "       ...,\n",
       "       [1., 0., 0., ..., 7., 0., 0.],\n",
       "       [1., 1., 0., ..., 7., 0., 0.],\n",
       "       [1., 0., 0., ..., 8., 0., 0.]], dtype=float32)"
      ]
     },
     "execution_count": 67,
     "metadata": {},
     "output_type": "execute_result"
    }
   ],
   "source": [
    "features"
   ]
  },
  {
   "cell_type": "code",
   "execution_count": 68,
   "id": "389f3bfe",
   "metadata": {},
   "outputs": [
    {
     "data": {
      "text/plain": [
       "(2966, 11)"
      ]
     },
     "execution_count": 68,
     "metadata": {},
     "output_type": "execute_result"
    }
   ],
   "source": [
    "features.shape"
   ]
  },
  {
   "cell_type": "code",
   "execution_count": 69,
   "id": "6e4f10b8",
   "metadata": {},
   "outputs": [],
   "source": [
    "# train-test-split\n",
    "from sklearn.model_selection import train_test_split\n",
    "features_train, features_test, labels_train, labels_test = train_test_split(features, labels, test_size = 0.2, random_state= 0)"
   ]
  },
  {
   "cell_type": "code",
   "execution_count": 70,
   "id": "50e22da8",
   "metadata": {},
   "outputs": [
    {
     "data": {
      "text/plain": [
       "2372"
      ]
     },
     "execution_count": 70,
     "metadata": {},
     "output_type": "execute_result"
    }
   ],
   "source": [
    "len(features_train)"
   ]
  },
  {
   "cell_type": "code",
   "execution_count": 71,
   "id": "cf33c63d",
   "metadata": {},
   "outputs": [],
   "source": [
    "# Fitting K-nearest neighbors to the Training set\n",
    "from sklearn.neighbors import KNeighborsClassifier\n",
    "classifier = KNeighborsClassifier(n_neighbors= 5, p = 2)\n",
    "classifier.fit(features_train, labels_train)\n",
    "# Predicting the Test set results\n",
    "labels_pred = classifier.predict(features_test)"
   ]
  },
  {
   "cell_type": "code",
   "execution_count": 72,
   "id": "79e4e811",
   "metadata": {},
   "outputs": [
    {
     "data": {
      "text/plain": [
       "array([1, 1, 1, 0, 0, 0, 1, 1, 0, 1, 1, 1, 0, 1, 1, 0, 1, 0, 1, 0, 0, 1,\n",
       "       1, 0, 0, 0, 1, 1, 0, 0, 1, 0, 1, 1, 0, 1, 1, 0, 0, 0, 0, 1, 1, 1,\n",
       "       0, 1, 1, 0, 1, 0, 0, 0, 1, 1, 1, 0, 1, 1, 1, 0, 0, 1, 1, 1, 0, 0,\n",
       "       0, 0, 0, 1, 0, 0, 0, 1, 0, 1, 0, 1, 0, 0, 0, 0, 1, 0, 0, 0, 0, 1,\n",
       "       0, 1, 1, 0, 1, 0, 1, 0, 1, 0, 1, 1, 0, 0, 1, 1, 0, 0, 1, 1, 0, 0,\n",
       "       1, 0, 1, 0, 1, 1, 1, 1, 0, 0, 0, 0, 0, 0, 0, 1, 1, 0, 0, 1, 0, 1,\n",
       "       0, 0, 0, 1, 1, 0, 0, 0, 0, 0, 1, 0, 1, 0, 0, 0, 1, 0, 1, 1, 0, 0,\n",
       "       1, 0, 0, 1, 0, 1, 0, 1, 1, 0, 0, 0, 1, 0, 1, 1, 0, 0, 1, 1, 0, 1,\n",
       "       1, 0, 1, 1, 1, 0, 0, 1, 0, 0, 1, 0, 0, 1, 0, 1, 1, 1, 0, 1, 1, 1,\n",
       "       0, 0, 1, 1, 0, 0, 0, 0, 1, 1, 0, 0, 1, 0, 1, 1, 1, 0, 1, 1, 0, 1,\n",
       "       0, 0, 1, 0, 0, 0, 0, 1, 1, 1, 0, 1, 0, 1, 0, 1, 1, 1, 0, 0, 0, 1,\n",
       "       1, 0, 0, 1, 1, 0, 1, 1, 0, 0, 0, 0, 1, 0, 0, 1, 1, 0, 1, 1, 1, 0,\n",
       "       1, 0, 0, 0, 0, 0, 1, 0, 0, 1, 0, 1, 1, 1, 0, 1, 0, 1, 0, 0, 0, 0,\n",
       "       1, 1, 1, 0, 1, 0, 1, 0, 0, 1, 1, 0, 0, 1, 1, 1, 0, 1, 1, 0, 1, 0,\n",
       "       0, 1, 0, 1, 1, 0, 0, 0, 1, 0, 0, 1, 0, 1, 0, 0, 0, 1, 0, 1, 0, 1,\n",
       "       1, 1, 1, 1, 1, 0, 0, 0, 0, 0, 1, 0, 0, 1, 1, 1, 0, 1, 0, 0, 0, 1,\n",
       "       0, 1, 1, 1, 0, 0, 1, 0, 0, 0, 0, 0, 1, 1, 1, 1, 1, 0, 1, 0, 1, 1,\n",
       "       0, 0, 0, 1, 0, 0, 1, 0, 0, 0, 1, 0, 1, 0, 0, 0, 1, 1, 0, 0, 0, 0,\n",
       "       1, 0, 1, 1, 1, 0, 0, 0, 1, 1, 0, 0, 1, 1, 1, 0, 0, 1, 0, 1, 0, 0,\n",
       "       0, 0, 1, 0, 1, 1, 1, 1, 0, 0, 1, 1, 1, 1, 1, 0, 0, 1, 0, 0, 1, 0,\n",
       "       1, 1, 0, 0, 0, 0, 1, 1, 0, 1, 1, 1, 1, 1, 1, 1, 0, 1, 0, 0, 1, 1,\n",
       "       0, 0, 0, 0, 0, 1, 0, 1, 0, 1, 1, 0, 1, 1, 1, 1, 0, 1, 1, 1, 0, 0,\n",
       "       1, 1, 1, 1, 1, 0, 0, 1, 1, 1, 0, 1, 0, 1, 0, 1, 0, 0, 1, 0, 0, 0,\n",
       "       1, 1, 0, 1, 0, 0, 1, 1, 1, 0, 1, 0, 1, 1, 1, 1, 0, 1, 0, 0, 1, 0,\n",
       "       0, 0, 1, 0, 1, 0, 0, 1, 0, 1, 0, 1, 0, 1, 0, 0, 0, 0, 0, 1, 0, 0,\n",
       "       0, 1, 1, 1, 1, 1, 1, 1, 1, 1, 1, 0, 1, 1, 1, 1, 1, 0, 1, 0, 0, 0,\n",
       "       1, 1, 0, 1, 1, 1, 0, 0, 1, 1, 0, 1, 1, 0, 0, 0, 1, 1, 1, 0, 0, 0],\n",
       "      dtype=int64)"
      ]
     },
     "execution_count": 72,
     "metadata": {},
     "output_type": "execute_result"
    }
   ],
   "source": [
    "labels_pred"
   ]
  },
  {
   "cell_type": "code",
   "execution_count": 73,
   "id": "22685e71",
   "metadata": {},
   "outputs": [
    {
     "name": "stdout",
     "output_type": "stream",
     "text": [
      "[[241  18]\n",
      " [ 60 275]]\n"
     ]
    }
   ],
   "source": [
    "# Making the Confusion Matrix to check the accuracy of the model\n",
    "from sklearn.metrics import confusion_matrix\n",
    "cm = confusion_matrix(labels_test, labels_pred)\n",
    "print(cm)"
   ]
  },
  {
   "cell_type": "code",
   "execution_count": 74,
   "id": "18fbe939",
   "metadata": {},
   "outputs": [
    {
     "data": {
      "text/plain": [
       "0.8686868686868687"
      ]
     },
     "execution_count": 74,
     "metadata": {},
     "output_type": "execute_result"
    }
   ],
   "source": [
    "# using accuracy score\n",
    "from sklearn.metrics import accuracy_score\n",
    "accuracy_score(labels_test, labels_pred)"
   ]
  },
  {
   "cell_type": "code",
   "execution_count": 81,
   "id": "2014f59b",
   "metadata": {},
   "outputs": [
    {
     "data": {
      "text/plain": [
       "array([1], dtype=int64)"
      ]
     },
     "execution_count": 81,
     "metadata": {},
     "output_type": "execute_result"
    }
   ],
   "source": [
    "# checking the placement status using random values\n",
    "classifier.predict([[0,0,1,0,0,0,21,2,8,0,1]])"
   ]
  },
  {
   "cell_type": "code",
   "execution_count": 19,
   "id": "c808a76a",
   "metadata": {},
   "outputs": [
    {
     "data": {
      "text/plain": [
       "(2372, 11)"
      ]
     },
     "execution_count": 19,
     "metadata": {},
     "output_type": "execute_result"
    }
   ],
   "source": [
    "features_train.shape"
   ]
  },
  {
   "cell_type": "code",
   "execution_count": 24,
   "id": "c7560d2a",
   "metadata": {},
   "outputs": [
    {
     "name": "stdout",
     "output_type": "stream",
     "text": [
      "accuracies is  [0.8907563  0.85714286 0.86075949 0.88607595 0.83544304 0.87763713\n",
      " 0.84810127 0.86919831 0.85654008 0.87763713]\n",
      "mean accuracy is 0.8659291564727157\n"
     ]
    }
   ],
   "source": [
    "# we can also check accuracy of the model using k-fold cross validation\n",
    "from sklearn.model_selection import cross_val_score\n",
    "accuracies = cross_val_score(estimator=classifier,X = features_train, y = labels_train, cv = 10)\n",
    "print (\"accuracies is \", accuracies)\n",
    "print (\"mean accuracy is\",accuracies.mean())"
   ]
  },
  {
   "cell_type": "code",
   "execution_count": 88,
   "id": "29e36d63",
   "metadata": {},
   "outputs": [],
   "source": [
    "# Applying PCA to reduce dimensions from 11D to 2D\n",
    "from sklearn.decomposition import PCA\n",
    "pca = PCA(n_components=2)\n",
    "features_train = pca.fit_transform(features_train)\n",
    "features_test = pca.transform(features_test)"
   ]
  },
  {
   "cell_type": "code",
   "execution_count": 89,
   "id": "cd093b20",
   "metadata": {},
   "outputs": [
    {
     "data": {
      "text/plain": [
       "2"
      ]
     },
     "execution_count": 89,
     "metadata": {},
     "output_type": "execute_result"
    }
   ],
   "source": [
    "features_train.ndim"
   ]
  },
  {
   "cell_type": "code",
   "execution_count": 90,
   "id": "36f21ea3",
   "metadata": {},
   "outputs": [
    {
     "data": {
      "text/plain": [
       "(2372, 2)"
      ]
     },
     "execution_count": 90,
     "metadata": {},
     "output_type": "execute_result"
    }
   ],
   "source": [
    "features_train.shape"
   ]
  },
  {
   "cell_type": "code",
   "execution_count": 91,
   "id": "d4dcf3de",
   "metadata": {},
   "outputs": [
    {
     "name": "stdout",
     "output_type": "stream",
     "text": [
      "[0.41201118 0.20132154]\n"
     ]
    }
   ],
   "source": [
    "# How much is the loss and how much we are able to retain the information\n",
    "explained_variance = pca.explained_variance_ratio_\n",
    "print(explained_variance)\n",
    "# first paramater (PC1) is holding 41% of the 11D data\n",
    "# second parameter (PC2) is holding 20% of the 11D data"
   ]
  },
  {
   "cell_type": "code",
   "execution_count": 92,
   "id": "c3df7435",
   "metadata": {},
   "outputs": [
    {
     "data": {
      "text/plain": [
       "array([[-0.64734656,  0.8175271 ],\n",
       "       [ 1.6683215 , -0.8030508 ],\n",
       "       [-0.47393155, -0.16557129],\n",
       "       ...,\n",
       "       [-1.4730831 , -0.37275872],\n",
       "       [-1.6241224 ,  0.6220295 ],\n",
       "       [-1.462075  , -0.3061849 ]], dtype=float32)"
      ]
     },
     "execution_count": 92,
     "metadata": {},
     "output_type": "execute_result"
    }
   ],
   "source": [
    "features_train"
   ]
  },
  {
   "cell_type": "code",
   "execution_count": 93,
   "id": "596ff71c",
   "metadata": {},
   "outputs": [
    {
     "data": {
      "text/plain": [
       "array([[-0.63970125,  0.79483926],\n",
       "       [-0.28338647, -1.04539   ],\n",
       "       [ 2.8330133 , -1.473645  ],\n",
       "       ...,\n",
       "       [-1.2773046 , -1.3441662 ],\n",
       "       [ 0.531431  ,  0.06832559],\n",
       "       [-2.4427776 , -0.5111903 ]], dtype=float32)"
      ]
     },
     "execution_count": 93,
     "metadata": {},
     "output_type": "execute_result"
    }
   ],
   "source": [
    "features_test"
   ]
  },
  {
   "cell_type": "code",
   "execution_count": 94,
   "id": "ca6f7dd3",
   "metadata": {},
   "outputs": [],
   "source": [
    "# Fitting K-nearest neighbors to the Training set\n",
    "from sklearn.neighbors import KNeighborsClassifier\n",
    "classifier = KNeighborsClassifier(n_neighbors= 5, p = 2)\n",
    "classifier.fit(features_train, labels_train)\n",
    "# Predicting the Test set results\n",
    "labels_pred = classifier.predict(features_test)"
   ]
  },
  {
   "cell_type": "code",
   "execution_count": 95,
   "id": "418c2942",
   "metadata": {},
   "outputs": [
    {
     "data": {
      "text/plain": [
       "array([1, 1, 0, 0, 0, 0, 1, 1, 0, 1, 1, 1, 0, 1, 1, 0, 1, 0, 1, 0, 0, 1,\n",
       "       1, 0, 0, 0, 1, 1, 0, 0, 1, 0, 1, 1, 0, 1, 1, 0, 0, 0, 0, 1, 1, 0,\n",
       "       0, 1, 1, 0, 1, 0, 0, 0, 1, 1, 1, 0, 1, 1, 1, 0, 0, 1, 1, 1, 0, 0,\n",
       "       0, 1, 0, 1, 0, 0, 0, 1, 0, 1, 0, 1, 0, 0, 0, 0, 1, 0, 0, 0, 0, 1,\n",
       "       0, 1, 1, 0, 1, 0, 1, 1, 1, 0, 1, 1, 0, 0, 1, 1, 0, 0, 1, 1, 0, 0,\n",
       "       1, 0, 1, 0, 1, 1, 1, 1, 0, 0, 0, 0, 0, 0, 0, 1, 1, 0, 0, 1, 0, 1,\n",
       "       0, 0, 0, 1, 1, 0, 0, 0, 0, 0, 1, 1, 1, 0, 0, 0, 1, 0, 1, 1, 1, 0,\n",
       "       1, 0, 1, 1, 0, 1, 0, 1, 1, 1, 0, 0, 1, 0, 1, 1, 0, 0, 1, 1, 0, 1,\n",
       "       1, 0, 1, 1, 1, 0, 0, 1, 0, 0, 1, 0, 0, 0, 0, 1, 1, 0, 0, 1, 1, 1,\n",
       "       0, 0, 1, 1, 0, 0, 0, 0, 1, 1, 0, 0, 1, 0, 1, 1, 1, 0, 1, 1, 0, 1,\n",
       "       0, 0, 1, 0, 0, 1, 0, 1, 1, 1, 0, 1, 0, 1, 0, 1, 1, 1, 0, 0, 0, 1,\n",
       "       1, 0, 0, 1, 1, 0, 1, 1, 0, 0, 0, 0, 1, 1, 0, 1, 1, 0, 1, 1, 1, 0,\n",
       "       1, 0, 0, 0, 0, 0, 1, 0, 0, 1, 0, 1, 1, 1, 1, 1, 0, 1, 0, 1, 0, 0,\n",
       "       1, 1, 1, 1, 1, 0, 1, 0, 0, 1, 1, 0, 0, 1, 1, 1, 0, 1, 1, 0, 1, 1,\n",
       "       0, 1, 0, 1, 1, 0, 0, 0, 1, 1, 0, 1, 0, 1, 0, 0, 0, 1, 0, 1, 0, 1,\n",
       "       1, 1, 1, 1, 1, 0, 0, 0, 0, 0, 1, 0, 0, 1, 1, 1, 0, 1, 0, 0, 1, 1,\n",
       "       0, 1, 1, 1, 0, 0, 1, 0, 0, 0, 0, 0, 1, 1, 1, 1, 1, 0, 1, 0, 1, 1,\n",
       "       0, 0, 0, 1, 0, 0, 1, 0, 0, 0, 1, 0, 1, 0, 0, 0, 1, 1, 1, 0, 0, 0,\n",
       "       1, 0, 1, 1, 1, 0, 0, 0, 1, 1, 0, 0, 0, 1, 1, 0, 0, 1, 1, 1, 0, 0,\n",
       "       0, 0, 1, 0, 1, 1, 1, 1, 0, 0, 1, 0, 1, 1, 1, 0, 0, 1, 0, 0, 1, 0,\n",
       "       1, 1, 0, 0, 0, 0, 1, 1, 0, 1, 1, 0, 0, 1, 1, 1, 0, 1, 0, 1, 1, 1,\n",
       "       0, 0, 0, 0, 0, 1, 0, 1, 0, 1, 1, 0, 1, 1, 1, 1, 0, 1, 1, 1, 0, 0,\n",
       "       1, 1, 1, 1, 1, 0, 0, 1, 1, 1, 0, 1, 0, 1, 0, 1, 0, 0, 1, 0, 0, 0,\n",
       "       1, 1, 0, 1, 0, 0, 1, 1, 1, 0, 1, 0, 1, 1, 1, 1, 0, 1, 0, 0, 1, 0,\n",
       "       0, 0, 1, 0, 1, 0, 0, 1, 0, 1, 0, 1, 0, 1, 0, 0, 0, 0, 0, 1, 0, 0,\n",
       "       0, 1, 1, 1, 1, 1, 1, 1, 1, 1, 1, 0, 1, 1, 1, 1, 1, 0, 1, 0, 0, 0,\n",
       "       1, 1, 0, 1, 0, 1, 0, 0, 1, 1, 0, 0, 1, 0, 0, 0, 1, 1, 1, 0, 0, 0],\n",
       "      dtype=int64)"
      ]
     },
     "execution_count": 95,
     "metadata": {},
     "output_type": "execute_result"
    }
   ],
   "source": [
    "labels_pred"
   ]
  },
  {
   "cell_type": "code",
   "execution_count": 96,
   "id": "98d767b7",
   "metadata": {},
   "outputs": [
    {
     "name": "stdout",
     "output_type": "stream",
     "text": [
      "[[237  22]\n",
      " [ 57 278]]\n"
     ]
    }
   ],
   "source": [
    "# Making the Confusion Matrix\n",
    "from sklearn.metrics import confusion_matrix\n",
    "cm = confusion_matrix(labels_test, labels_pred)\n",
    "print(cm)"
   ]
  },
  {
   "cell_type": "code",
   "execution_count": 34,
   "id": "3ae08032",
   "metadata": {},
   "outputs": [
    {
     "data": {
      "text/plain": [
       "0.867003367003367"
      ]
     },
     "execution_count": 34,
     "metadata": {},
     "output_type": "execute_result"
    }
   ],
   "source": [
    "# using accuracy score\n",
    "from sklearn.metrics import accuracy_score\n",
    "accuracy_score(labels_test, labels_pred)"
   ]
  },
  {
   "cell_type": "code",
   "execution_count": 102,
   "id": "b3b76fb5",
   "metadata": {},
   "outputs": [
    {
     "name": "stderr",
     "output_type": "stream",
     "text": [
      "*c* argument looks like a single numeric RGB or RGBA sequence, which should be avoided as value-mapping will have precedence in case its length matches with *x* & *y*.  Please use the *color* keyword-argument or provide a 2-D array with a single row if you intend to specify the same RGB or RGBA value for all points.\n",
      "*c* argument looks like a single numeric RGB or RGBA sequence, which should be avoided as value-mapping will have precedence in case its length matches with *x* & *y*.  Please use the *color* keyword-argument or provide a 2-D array with a single row if you intend to specify the same RGB or RGBA value for all points.\n"
     ]
    },
    {
     "data": {
      "image/png": "[encoded data removed]",
      "text/plain": [
       "<Figure size 432x288 with 1 Axes>"
      ]
     },
     "metadata": {
      "needs_background": "light"
     },
     "output_type": "display_data"
    }
   ],
   "source": [
    "# Visualising the Training set results\n",
    "from matplotlib.colors import ListedColormap  \n",
    "x_set, y_set = features_train, labels_train  \n",
    "x1, x2 = np.meshgrid(np.arange(start = x_set[:, 0].min() - 1, stop = x_set[:, 0].max() + 1, step  =0.01),  \n",
    "np.arange(start = x_set[:, 1].min() - 1, stop = x_set[:, 1].max() + 1, step = 0.01))  \n",
    "plt.contourf(x1, x2, classifier.predict(np.array([x1.ravel(), x2.ravel()]).T).reshape(x1.shape),  \n",
    "alpha = 0.75, cmap = ListedColormap(('red','green' )))  \n",
    "plt.xlim(x1.min(), x1.max())  \n",
    "plt.ylim(x2.min(), x2.max())  \n",
    "for i, j in enumerate(np.unique(y_set)):  \n",
    "    plt.scatter(x_set[y_set == j, 0], x_set[y_set == j, 1],  \n",
    "        c = ListedColormap(('red', 'green'))(i), label = j)  \n",
    "plt.title('K-NN Algorithm (Training set)') \n",
    "plt.legend()\n",
    "plt.show()"
   ]
  },
  {
   "cell_type": "code",
   "execution_count": 101,
   "id": "02848500",
   "metadata": {},
   "outputs": [
    {
     "name": "stderr",
     "output_type": "stream",
     "text": [
      "*c* argument looks like a single numeric RGB or RGBA sequence, which should be avoided as value-mapping will have precedence in case its length matches with *x* & *y*.  Please use the *color* keyword-argument or provide a 2-D array with a single row if you intend to specify the same RGB or RGBA value for all points.\n",
      "*c* argument looks like a single numeric RGB or RGBA sequence, which should be avoided as value-mapping will have precedence in case its length matches with *x* & *y*.  Please use the *color* keyword-argument or provide a 2-D array with a single row if you intend to specify the same RGB or RGBA value for all points.\n"
     ]
    },
    {
     "data": {
      "image/png": "[encoded data removed]",
      "text/plain": [
       "<Figure size 432x288 with 1 Axes>"
      ]
     },
     "metadata": {
      "needs_background": "light"
     },
     "output_type": "display_data"
    },
    {
     "name": "stdout",
     "output_type": "stream",
     "text": [
      "[[237  22]\n",
      " [ 57 278]]\n"
     ]
    }
   ],
   "source": [
    "from matplotlib.colors import ListedColormap  \n",
    "x_set, y_set = features_test, labels_test  \n",
    "x1, x2 = np.meshgrid(np.arange(start = x_set[:, 0].min() - 1, stop = x_set[:, 0].max() + 1, step  =0.01),  \n",
    "np.arange(start = x_set[:, 1].min() - 1, stop = x_set[:, 1].max() + 1, step = 0.01))  \n",
    "plt.contourf(x1, x2, classifier.predict(np.array([x1.ravel(), x2.ravel()]).T).reshape(x1.shape),  \n",
    "alpha = 0.75, cmap = ListedColormap(('red','green' )))  \n",
    "plt.xlim(x1.min(), x1.max())  \n",
    "plt.ylim(x2.min(), x2.max())  \n",
    "for i, j in enumerate(np.unique(y_set)):  \n",
    "    plt.scatter(x_set[y_set == j, 0], x_set[y_set == j, 1],  \n",
    "        c = ListedColormap(('red', 'green'))(i), label = j)  \n",
    "plt.title('K-NN Algorithm (Test set)')\n",
    "plt.legend()\n",
    "plt.show()\n",
    "print(cm)"
   ]
  },
  {
   "cell_type": "markdown",
   "id": "cd25f7ba",
   "metadata": {},
   "source": [
    "# Feature Selection"
   ]
  },
  {
   "cell_type": "code",
   "execution_count": 32,
   "id": "c84c33f0",
   "metadata": {},
   "outputs": [],
   "source": [
    "# importing the libraries\n",
    "import pandas as pd\n",
    "import numpy as np"
   ]
  },
  {
   "cell_type": "code",
   "execution_count": 33,
   "id": "5e15bc52",
   "metadata": {},
   "outputs": [],
   "source": [
    "dataset = pd.read_csv('collegePlace.csv')"
   ]
  },
  {
   "cell_type": "code",
   "execution_count": 34,
   "id": "8560005c",
   "metadata": {},
   "outputs": [
    {
     "data": {
      "text/html": [
       "<div>\n",
       "<style scoped>\n",
       "    .dataframe tbody tr th:only-of-type {\n",
       "        vertical-align: middle;\n",
       "    }\n",
       "\n",
       "    .dataframe tbody tr th {\n",
       "        vertical-align: top;\n",
       "    }\n",
       "\n",
       "    .dataframe thead th {\n",
       "        text-align: right;\n",
       "    }\n",
       "</style>\n",
       "<table border=\"1\" class=\"dataframe\">\n",
       "  <thead>\n",
       "    <tr style=\"text-align: right;\">\n",
       "      <th></th>\n",
       "      <th>Age</th>\n",
       "      <th>Gender</th>\n",
       "      <th>Stream</th>\n",
       "      <th>Internships</th>\n",
       "      <th>CGPA</th>\n",
       "      <th>Hostel</th>\n",
       "      <th>HistoryOfBacklogs</th>\n",
       "      <th>PlacedOrNot</th>\n",
       "    </tr>\n",
       "  </thead>\n",
       "  <tbody>\n",
       "    <tr>\n",
       "      <th>0</th>\n",
       "      <td>22</td>\n",
       "      <td>Male</td>\n",
       "      <td>Electronics And Communication</td>\n",
       "      <td>1</td>\n",
       "      <td>8</td>\n",
       "      <td>1</td>\n",
       "      <td>1</td>\n",
       "      <td>1</td>\n",
       "    </tr>\n",
       "    <tr>\n",
       "      <th>1</th>\n",
       "      <td>21</td>\n",
       "      <td>Female</td>\n",
       "      <td>Computer Science</td>\n",
       "      <td>0</td>\n",
       "      <td>7</td>\n",
       "      <td>1</td>\n",
       "      <td>1</td>\n",
       "      <td>1</td>\n",
       "    </tr>\n",
       "    <tr>\n",
       "      <th>2</th>\n",
       "      <td>22</td>\n",
       "      <td>Female</td>\n",
       "      <td>Information Technology</td>\n",
       "      <td>1</td>\n",
       "      <td>6</td>\n",
       "      <td>0</td>\n",
       "      <td>0</td>\n",
       "      <td>1</td>\n",
       "    </tr>\n",
       "    <tr>\n",
       "      <th>3</th>\n",
       "      <td>21</td>\n",
       "      <td>Male</td>\n",
       "      <td>Information Technology</td>\n",
       "      <td>0</td>\n",
       "      <td>8</td>\n",
       "      <td>0</td>\n",
       "      <td>1</td>\n",
       "      <td>1</td>\n",
       "    </tr>\n",
       "    <tr>\n",
       "      <th>4</th>\n",
       "      <td>22</td>\n",
       "      <td>Male</td>\n",
       "      <td>Mechanical</td>\n",
       "      <td>0</td>\n",
       "      <td>8</td>\n",
       "      <td>1</td>\n",
       "      <td>0</td>\n",
       "      <td>1</td>\n",
       "    </tr>\n",
       "    <tr>\n",
       "      <th>...</th>\n",
       "      <td>...</td>\n",
       "      <td>...</td>\n",
       "      <td>...</td>\n",
       "      <td>...</td>\n",
       "      <td>...</td>\n",
       "      <td>...</td>\n",
       "      <td>...</td>\n",
       "      <td>...</td>\n",
       "    </tr>\n",
       "    <tr>\n",
       "      <th>2961</th>\n",
       "      <td>23</td>\n",
       "      <td>Male</td>\n",
       "      <td>Information Technology</td>\n",
       "      <td>0</td>\n",
       "      <td>7</td>\n",
       "      <td>0</td>\n",
       "      <td>0</td>\n",
       "      <td>0</td>\n",
       "    </tr>\n",
       "    <tr>\n",
       "      <th>2962</th>\n",
       "      <td>23</td>\n",
       "      <td>Male</td>\n",
       "      <td>Mechanical</td>\n",
       "      <td>1</td>\n",
       "      <td>7</td>\n",
       "      <td>1</td>\n",
       "      <td>0</td>\n",
       "      <td>0</td>\n",
       "    </tr>\n",
       "    <tr>\n",
       "      <th>2963</th>\n",
       "      <td>22</td>\n",
       "      <td>Male</td>\n",
       "      <td>Information Technology</td>\n",
       "      <td>1</td>\n",
       "      <td>7</td>\n",
       "      <td>0</td>\n",
       "      <td>0</td>\n",
       "      <td>0</td>\n",
       "    </tr>\n",
       "    <tr>\n",
       "      <th>2964</th>\n",
       "      <td>22</td>\n",
       "      <td>Male</td>\n",
       "      <td>Computer Science</td>\n",
       "      <td>1</td>\n",
       "      <td>7</td>\n",
       "      <td>0</td>\n",
       "      <td>0</td>\n",
       "      <td>0</td>\n",
       "    </tr>\n",
       "    <tr>\n",
       "      <th>2965</th>\n",
       "      <td>23</td>\n",
       "      <td>Male</td>\n",
       "      <td>Civil</td>\n",
       "      <td>0</td>\n",
       "      <td>8</td>\n",
       "      <td>0</td>\n",
       "      <td>0</td>\n",
       "      <td>1</td>\n",
       "    </tr>\n",
       "  </tbody>\n",
       "</table>\n",
       "<p>2966 rows × 8 columns</p>\n",
       "</div>"
      ],
      "text/plain": [
       "      Age  Gender                         Stream  Internships  CGPA  Hostel  \\\n",
       "0      22    Male  Electronics And Communication            1     8       1   \n",
       "1      21  Female               Computer Science            0     7       1   \n",
       "2      22  Female         Information Technology            1     6       0   \n",
       "3      21    Male         Information Technology            0     8       0   \n",
       "4      22    Male                     Mechanical            0     8       1   \n",
       "...   ...     ...                            ...          ...   ...     ...   \n",
       "2961   23    Male         Information Technology            0     7       0   \n",
       "2962   23    Male                     Mechanical            1     7       1   \n",
       "2963   22    Male         Information Technology            1     7       0   \n",
       "2964   22    Male               Computer Science            1     7       0   \n",
       "2965   23    Male                          Civil            0     8       0   \n",
       "\n",
       "      HistoryOfBacklogs  PlacedOrNot  \n",
       "0                     1            1  \n",
       "1                     1            1  \n",
       "2                     0            1  \n",
       "3                     1            1  \n",
       "4                     0            1  \n",
       "...                 ...          ...  \n",
       "2961                  0            0  \n",
       "2962                  0            0  \n",
       "2963                  0            0  \n",
       "2964                  0            0  \n",
       "2965                  0            1  \n",
       "\n",
       "[2966 rows x 8 columns]"
      ]
     },
     "execution_count": 34,
     "metadata": {},
     "output_type": "execute_result"
    }
   ],
   "source": [
    "dataset"
   ]
  },
  {
   "cell_type": "code",
   "execution_count": 35,
   "id": "5a6a03b5",
   "metadata": {},
   "outputs": [],
   "source": [
    "# separating out features and labels\n",
    "features = dataset.iloc[:,0:7].values\n",
    "labels = dataset.iloc[:,-1].values"
   ]
  },
  {
   "cell_type": "code",
   "execution_count": 36,
   "id": "31f97e07",
   "metadata": {},
   "outputs": [
    {
     "data": {
      "text/plain": [
       "array([[22, 'Male', 'Electronics And Communication', ..., 8, 1, 1],\n",
       "       [21, 'Female', 'Computer Science', ..., 7, 1, 1],\n",
       "       [22, 'Female', 'Information Technology', ..., 6, 0, 0],\n",
       "       ...,\n",
       "       [22, 'Male', 'Information Technology', ..., 7, 0, 0],\n",
       "       [22, 'Male', 'Computer Science', ..., 7, 0, 0],\n",
       "       [23, 'Male', 'Civil', ..., 8, 0, 0]], dtype=object)"
      ]
     },
     "execution_count": 36,
     "metadata": {},
     "output_type": "execute_result"
    }
   ],
   "source": [
    "features"
   ]
  },
  {
   "cell_type": "code",
   "execution_count": 37,
   "id": "2de183e1",
   "metadata": {},
   "outputs": [
    {
     "data": {
      "text/plain": [
       "array([1, 1, 1, ..., 0, 0, 1], dtype=int64)"
      ]
     },
     "execution_count": 37,
     "metadata": {},
     "output_type": "execute_result"
    }
   ],
   "source": [
    "labels"
   ]
  },
  {
   "cell_type": "code",
   "execution_count": 38,
   "id": "5027e494",
   "metadata": {},
   "outputs": [],
   "source": [
    "# converting the categorical values to numeric values using OneHotEncoding\n",
    "from sklearn.preprocessing import OneHotEncoder\n",
    "from sklearn.compose import ColumnTransformer\n",
    "cTransformer = ColumnTransformer([('encoder', OneHotEncoder(), [1,2])], remainder = 'passthrough')\n",
    "import numpy as np\n",
    "features = np.array(cTransformer.fit_transform(features), dtype = np.float32)"
   ]
  },
  {
   "cell_type": "code",
   "execution_count": 39,
   "id": "018f43fd",
   "metadata": {},
   "outputs": [],
   "source": [
    "features = features[:, 1:]\n",
    "features = features[:, [0,2,3,4,5,6,7,8,9,10,11]]"
   ]
  },
  {
   "cell_type": "code",
   "execution_count": 40,
   "id": "d598fa3d",
   "metadata": {},
   "outputs": [
    {
     "data": {
      "text/plain": [
       "(2966, 11)"
      ]
     },
     "execution_count": 40,
     "metadata": {},
     "output_type": "execute_result"
    }
   ],
   "source": [
    "features.shape"
   ]
  },
  {
   "cell_type": "code",
   "execution_count": 41,
   "id": "716da21b",
   "metadata": {},
   "outputs": [],
   "source": [
    "import statsmodels.api as sm\n",
    "features = sm.add_constant(features)"
   ]
  },
  {
   "cell_type": "code",
   "execution_count": 42,
   "id": "afcf86a6",
   "metadata": {},
   "outputs": [
    {
     "data": {
      "text/plain": [
       "array([[1., 1., 0., ..., 8., 1., 1.],\n",
       "       [1., 0., 1., ..., 7., 1., 1.],\n",
       "       [1., 0., 0., ..., 6., 0., 0.],\n",
       "       ...,\n",
       "       [1., 1., 0., ..., 7., 0., 0.],\n",
       "       [1., 1., 1., ..., 7., 0., 0.],\n",
       "       [1., 1., 0., ..., 8., 0., 0.]])"
      ]
     },
     "execution_count": 42,
     "metadata": {},
     "output_type": "execute_result"
    }
   ],
   "source": [
    "features"
   ]
  },
  {
   "cell_type": "code",
   "execution_count": 43,
   "id": "a430cfa0",
   "metadata": {},
   "outputs": [
    {
     "data": {
      "text/plain": [
       "(2966, 12)"
      ]
     },
     "execution_count": 43,
     "metadata": {},
     "output_type": "execute_result"
    }
   ],
   "source": [
    "features.shape"
   ]
  },
  {
   "cell_type": "code",
   "execution_count": 44,
   "id": "5f576c4c",
   "metadata": {},
   "outputs": [],
   "source": [
    "# feature selection\n",
    "features_optimal = features[:,[0,1,2,3,4,5,6,7,8,9,10,11]]"
   ]
  },
  {
   "cell_type": "code",
   "execution_count": 45,
   "id": "0f052dce",
   "metadata": {},
   "outputs": [
    {
     "data": {
      "text/plain": [
       "(2966, 12)"
      ]
     },
     "execution_count": 45,
     "metadata": {},
     "output_type": "execute_result"
    }
   ],
   "source": [
    "features_optimal.shape"
   ]
  },
  {
   "cell_type": "code",
   "execution_count": 46,
   "id": "3656f489",
   "metadata": {},
   "outputs": [
    {
     "data": {
      "text/plain": [
       "array([[1., 1., 0., ..., 8., 1., 1.],\n",
       "       [1., 0., 1., ..., 7., 1., 1.],\n",
       "       [1., 0., 0., ..., 6., 0., 0.],\n",
       "       ...,\n",
       "       [1., 1., 0., ..., 7., 0., 0.],\n",
       "       [1., 1., 1., ..., 7., 0., 0.],\n",
       "       [1., 1., 0., ..., 8., 0., 0.]])"
      ]
     },
     "execution_count": 46,
     "metadata": {},
     "output_type": "execute_result"
    }
   ],
   "source": [
    "features_optimal"
   ]
  },
  {
   "cell_type": "code",
   "execution_count": 47,
   "id": "02847b8c",
   "metadata": {},
   "outputs": [
    {
     "data": {
      "text/html": [
       "<table class=\"simpletable\">\n",
       "<caption>OLS Regression Results</caption>\n",
       "<tr>\n",
       "  <th>Dep. Variable:</th>            <td>y</td>        <th>  R-squared:         </th> <td>   0.395</td> \n",
       "</tr>\n",
       "<tr>\n",
       "  <th>Model:</th>                   <td>OLS</td>       <th>  Adj. R-squared:    </th> <td>   0.393</td> \n",
       "</tr>\n",
       "<tr>\n",
       "  <th>Method:</th>             <td>Least Squares</td>  <th>  F-statistic:       </th> <td>   175.3</td> \n",
       "</tr>\n",
       "<tr>\n",
       "  <th>Date:</th>             <td>Wed, 06 Oct 2021</td> <th>  Prob (F-statistic):</th> <td>2.51e-312</td>\n",
       "</tr>\n",
       "<tr>\n",
       "  <th>Time:</th>                 <td>23:24:00</td>     <th>  Log-Likelihood:    </th> <td> -1391.0</td> \n",
       "</tr>\n",
       "<tr>\n",
       "  <th>No. Observations:</th>      <td>  2966</td>      <th>  AIC:               </th> <td>   2806.</td> \n",
       "</tr>\n",
       "<tr>\n",
       "  <th>Df Residuals:</th>          <td>  2954</td>      <th>  BIC:               </th> <td>   2878.</td> \n",
       "</tr>\n",
       "<tr>\n",
       "  <th>Df Model:</th>              <td>    11</td>      <th>                     </th>     <td> </td>    \n",
       "</tr>\n",
       "<tr>\n",
       "  <th>Covariance Type:</th>      <td>nonrobust</td>    <th>                     </th>     <td> </td>    \n",
       "</tr>\n",
       "</table>\n",
       "<table class=\"simpletable\">\n",
       "<tr>\n",
       "    <td></td>       <th>coef</th>     <th>std err</th>      <th>t</th>      <th>P>|t|</th>  <th>[0.025</th>    <th>0.975]</th>  \n",
       "</tr>\n",
       "<tr>\n",
       "  <th>const</th> <td>   -2.7341</td> <td>    0.137</td> <td>  -19.953</td> <td> 0.000</td> <td>   -3.003</td> <td>   -2.465</td>\n",
       "</tr>\n",
       "<tr>\n",
       "  <th>x1</th>    <td>    0.0232</td> <td>    0.020</td> <td>    1.137</td> <td> 0.256</td> <td>   -0.017</td> <td>    0.063</td>\n",
       "</tr>\n",
       "<tr>\n",
       "  <th>x2</th>    <td>    0.1017</td> <td>    0.026</td> <td>    3.886</td> <td> 0.000</td> <td>    0.050</td> <td>    0.153</td>\n",
       "</tr>\n",
       "<tr>\n",
       "  <th>x3</th>    <td>    0.0864</td> <td>    0.031</td> <td>    2.819</td> <td> 0.005</td> <td>    0.026</td> <td>    0.146</td>\n",
       "</tr>\n",
       "<tr>\n",
       "  <th>x4</th>    <td>    0.1073</td> <td>    0.029</td> <td>    3.684</td> <td> 0.000</td> <td>    0.050</td> <td>    0.164</td>\n",
       "</tr>\n",
       "<tr>\n",
       "  <th>x5</th>    <td>    0.1139</td> <td>    0.027</td> <td>    4.272</td> <td> 0.000</td> <td>    0.062</td> <td>    0.166</td>\n",
       "</tr>\n",
       "<tr>\n",
       "  <th>x6</th>    <td>    0.0309</td> <td>    0.032</td> <td>    0.971</td> <td> 0.331</td> <td>   -0.031</td> <td>    0.093</td>\n",
       "</tr>\n",
       "<tr>\n",
       "  <th>x7</th>    <td>    0.0438</td> <td>    0.005</td> <td>    8.066</td> <td> 0.000</td> <td>    0.033</td> <td>    0.054</td>\n",
       "</tr>\n",
       "<tr>\n",
       "  <th>x8</th>    <td>    0.1043</td> <td>    0.010</td> <td>   10.637</td> <td> 0.000</td> <td>    0.085</td> <td>    0.124</td>\n",
       "</tr>\n",
       "<tr>\n",
       "  <th>x9</th>    <td>    0.3081</td> <td>    0.007</td> <td>   41.551</td> <td> 0.000</td> <td>    0.294</td> <td>    0.323</td>\n",
       "</tr>\n",
       "<tr>\n",
       "  <th>x10</th>   <td>   -0.0157</td> <td>    0.021</td> <td>   -0.745</td> <td> 0.457</td> <td>   -0.057</td> <td>    0.026</td>\n",
       "</tr>\n",
       "<tr>\n",
       "  <th>x11</th>   <td>   -0.0205</td> <td>    0.018</td> <td>   -1.118</td> <td> 0.264</td> <td>   -0.057</td> <td>    0.015</td>\n",
       "</tr>\n",
       "</table>\n",
       "<table class=\"simpletable\">\n",
       "<tr>\n",
       "  <th>Omnibus:</th>       <td>166.837</td> <th>  Durbin-Watson:     </th> <td>   1.845</td>\n",
       "</tr>\n",
       "<tr>\n",
       "  <th>Prob(Omnibus):</th> <td> 0.000</td>  <th>  Jarque-Bera (JB):  </th> <td>  73.399</td>\n",
       "</tr>\n",
       "<tr>\n",
       "  <th>Skew:</th>          <td> 0.162</td>  <th>  Prob(JB):          </th> <td>1.15e-16</td>\n",
       "</tr>\n",
       "<tr>\n",
       "  <th>Kurtosis:</th>      <td> 2.301</td>  <th>  Cond. No.          </th> <td>    439.</td>\n",
       "</tr>\n",
       "</table><br/><br/>Notes:<br/>[1] Standard Errors assume that the covariance matrix of the errors is correctly specified."
      ],
      "text/plain": [
       "<class 'statsmodels.iolib.summary.Summary'>\n",
       "\"\"\"\n",
       "                            OLS Regression Results                            \n",
       "==============================================================================\n",
       "Dep. Variable:                      y   R-squared:                       0.395\n",
       "Model:                            OLS   Adj. R-squared:                  0.393\n",
       "Method:                 Least Squares   F-statistic:                     175.3\n",
       "Date:                Wed, 06 Oct 2021   Prob (F-statistic):          2.51e-312\n",
       "Time:                        23:24:00   Log-Likelihood:                -1391.0\n",
       "No. Observations:                2966   AIC:                             2806.\n",
       "Df Residuals:                    2954   BIC:                             2878.\n",
       "Df Model:                          11                                         \n",
       "Covariance Type:            nonrobust                                         \n",
       "==============================================================================\n",
       "                 coef    std err          t      P>|t|      [0.025      0.975]\n",
       "------------------------------------------------------------------------------\n",
       "const         -2.7341      0.137    -19.953      0.000      -3.003      -2.465\n",
       "x1             0.0232      0.020      1.137      0.256      -0.017       0.063\n",
       "x2             0.1017      0.026      3.886      0.000       0.050       0.153\n",
       "x3             0.0864      0.031      2.819      0.005       0.026       0.146\n",
       "x4             0.1073      0.029      3.684      0.000       0.050       0.164\n",
       "x5             0.1139      0.027      4.272      0.000       0.062       0.166\n",
       "x6             0.0309      0.032      0.971      0.331      -0.031       0.093\n",
       "x7             0.0438      0.005      8.066      0.000       0.033       0.054\n",
       "x8             0.1043      0.010     10.637      0.000       0.085       0.124\n",
       "x9             0.3081      0.007     41.551      0.000       0.294       0.323\n",
       "x10           -0.0157      0.021     -0.745      0.457      -0.057       0.026\n",
       "x11           -0.0205      0.018     -1.118      0.264      -0.057       0.015\n",
       "==============================================================================\n",
       "Omnibus:                      166.837   Durbin-Watson:                   1.845\n",
       "Prob(Omnibus):                  0.000   Jarque-Bera (JB):               73.399\n",
       "Skew:                           0.162   Prob(JB):                     1.15e-16\n",
       "Kurtosis:                       2.301   Cond. No.                         439.\n",
       "==============================================================================\n",
       "\n",
       "Notes:\n",
       "[1] Standard Errors assume that the covariance matrix of the errors is correctly specified.\n",
       "\"\"\""
      ]
     },
     "execution_count": 47,
     "metadata": {},
     "output_type": "execute_result"
    }
   ],
   "source": [
    "classifier_ols = sm.OLS(labels, features_optimal).fit()\n",
    "classifier_ols.summary()"
   ]
  },
  {
   "cell_type": "code",
   "execution_count": 48,
   "id": "aa0c1b49",
   "metadata": {},
   "outputs": [],
   "source": [
    "# dropping the hostel column i.e 10 column\n",
    "features_optimal = features[:,[0,1,2,3,4,5,6,7,8,9,11]]"
   ]
  },
  {
   "cell_type": "code",
   "execution_count": 49,
   "id": "2030c220",
   "metadata": {},
   "outputs": [
    {
     "data": {
      "text/html": [
       "<table class=\"simpletable\">\n",
       "<caption>OLS Regression Results</caption>\n",
       "<tr>\n",
       "  <th>Dep. Variable:</th>            <td>y</td>        <th>  R-squared:         </th> <td>   0.395</td> \n",
       "</tr>\n",
       "<tr>\n",
       "  <th>Model:</th>                   <td>OLS</td>       <th>  Adj. R-squared:    </th> <td>   0.393</td> \n",
       "</tr>\n",
       "<tr>\n",
       "  <th>Method:</th>             <td>Least Squares</td>  <th>  F-statistic:       </th> <td>   192.8</td> \n",
       "</tr>\n",
       "<tr>\n",
       "  <th>Date:</th>             <td>Wed, 06 Oct 2021</td> <th>  Prob (F-statistic):</th> <td>2.33e-313</td>\n",
       "</tr>\n",
       "<tr>\n",
       "  <th>Time:</th>                 <td>23:24:30</td>     <th>  Log-Likelihood:    </th> <td> -1391.3</td> \n",
       "</tr>\n",
       "<tr>\n",
       "  <th>No. Observations:</th>      <td>  2966</td>      <th>  AIC:               </th> <td>   2805.</td> \n",
       "</tr>\n",
       "<tr>\n",
       "  <th>Df Residuals:</th>          <td>  2955</td>      <th>  BIC:               </th> <td>   2870.</td> \n",
       "</tr>\n",
       "<tr>\n",
       "  <th>Df Model:</th>              <td>    10</td>      <th>                     </th>     <td> </td>    \n",
       "</tr>\n",
       "<tr>\n",
       "  <th>Covariance Type:</th>      <td>nonrobust</td>    <th>                     </th>     <td> </td>    \n",
       "</tr>\n",
       "</table>\n",
       "<table class=\"simpletable\">\n",
       "<tr>\n",
       "    <td></td>       <th>coef</th>     <th>std err</th>      <th>t</th>      <th>P>|t|</th>  <th>[0.025</th>    <th>0.975]</th>  \n",
       "</tr>\n",
       "<tr>\n",
       "  <th>const</th> <td>   -2.7414</td> <td>    0.137</td> <td>  -20.058</td> <td> 0.000</td> <td>   -3.009</td> <td>   -2.473</td>\n",
       "</tr>\n",
       "<tr>\n",
       "  <th>x1</th>    <td>    0.0279</td> <td>    0.019</td> <td>    1.444</td> <td> 0.149</td> <td>   -0.010</td> <td>    0.066</td>\n",
       "</tr>\n",
       "<tr>\n",
       "  <th>x2</th>    <td>    0.1031</td> <td>    0.026</td> <td>    3.950</td> <td> 0.000</td> <td>    0.052</td> <td>    0.154</td>\n",
       "</tr>\n",
       "<tr>\n",
       "  <th>x3</th>    <td>    0.0888</td> <td>    0.030</td> <td>    2.917</td> <td> 0.004</td> <td>    0.029</td> <td>    0.149</td>\n",
       "</tr>\n",
       "<tr>\n",
       "  <th>x4</th>    <td>    0.1098</td> <td>    0.029</td> <td>    3.795</td> <td> 0.000</td> <td>    0.053</td> <td>    0.166</td>\n",
       "</tr>\n",
       "<tr>\n",
       "  <th>x5</th>    <td>    0.1165</td> <td>    0.026</td> <td>    4.409</td> <td> 0.000</td> <td>    0.065</td> <td>    0.168</td>\n",
       "</tr>\n",
       "<tr>\n",
       "  <th>x6</th>    <td>    0.0208</td> <td>    0.029</td> <td>    0.723</td> <td> 0.470</td> <td>   -0.036</td> <td>    0.077</td>\n",
       "</tr>\n",
       "<tr>\n",
       "  <th>x7</th>    <td>    0.0438</td> <td>    0.005</td> <td>    8.070</td> <td> 0.000</td> <td>    0.033</td> <td>    0.054</td>\n",
       "</tr>\n",
       "<tr>\n",
       "  <th>x8</th>    <td>    0.1038</td> <td>    0.010</td> <td>   10.612</td> <td> 0.000</td> <td>    0.085</td> <td>    0.123</td>\n",
       "</tr>\n",
       "<tr>\n",
       "  <th>x9</th>    <td>    0.3080</td> <td>    0.007</td> <td>   41.548</td> <td> 0.000</td> <td>    0.293</td> <td>    0.322</td>\n",
       "</tr>\n",
       "<tr>\n",
       "  <th>x10</th>   <td>   -0.0225</td> <td>    0.018</td> <td>   -1.240</td> <td> 0.215</td> <td>   -0.058</td> <td>    0.013</td>\n",
       "</tr>\n",
       "</table>\n",
       "<table class=\"simpletable\">\n",
       "<tr>\n",
       "  <th>Omnibus:</th>       <td>167.129</td> <th>  Durbin-Watson:     </th> <td>   1.845</td>\n",
       "</tr>\n",
       "<tr>\n",
       "  <th>Prob(Omnibus):</th> <td> 0.000</td>  <th>  Jarque-Bera (JB):  </th> <td>  73.582</td>\n",
       "</tr>\n",
       "<tr>\n",
       "  <th>Skew:</th>          <td> 0.163</td>  <th>  Prob(JB):          </th> <td>1.05e-16</td>\n",
       "</tr>\n",
       "<tr>\n",
       "  <th>Kurtosis:</th>      <td> 2.301</td>  <th>  Cond. No.          </th> <td>    438.</td>\n",
       "</tr>\n",
       "</table><br/><br/>Notes:<br/>[1] Standard Errors assume that the covariance matrix of the errors is correctly specified."
      ],
      "text/plain": [
       "<class 'statsmodels.iolib.summary.Summary'>\n",
       "\"\"\"\n",
       "                            OLS Regression Results                            \n",
       "==============================================================================\n",
       "Dep. Variable:                      y   R-squared:                       0.395\n",
       "Model:                            OLS   Adj. R-squared:                  0.393\n",
       "Method:                 Least Squares   F-statistic:                     192.8\n",
       "Date:                Wed, 06 Oct 2021   Prob (F-statistic):          2.33e-313\n",
       "Time:                        23:24:30   Log-Likelihood:                -1391.3\n",
       "No. Observations:                2966   AIC:                             2805.\n",
       "Df Residuals:                    2955   BIC:                             2870.\n",
       "Df Model:                          10                                         \n",
       "Covariance Type:            nonrobust                                         \n",
       "==============================================================================\n",
       "                 coef    std err          t      P>|t|      [0.025      0.975]\n",
       "------------------------------------------------------------------------------\n",
       "const         -2.7414      0.137    -20.058      0.000      -3.009      -2.473\n",
       "x1             0.0279      0.019      1.444      0.149      -0.010       0.066\n",
       "x2             0.1031      0.026      3.950      0.000       0.052       0.154\n",
       "x3             0.0888      0.030      2.917      0.004       0.029       0.149\n",
       "x4             0.1098      0.029      3.795      0.000       0.053       0.166\n",
       "x5             0.1165      0.026      4.409      0.000       0.065       0.168\n",
       "x6             0.0208      0.029      0.723      0.470      -0.036       0.077\n",
       "x7             0.0438      0.005      8.070      0.000       0.033       0.054\n",
       "x8             0.1038      0.010     10.612      0.000       0.085       0.123\n",
       "x9             0.3080      0.007     41.548      0.000       0.293       0.322\n",
       "x10           -0.0225      0.018     -1.240      0.215      -0.058       0.013\n",
       "==============================================================================\n",
       "Omnibus:                      167.129   Durbin-Watson:                   1.845\n",
       "Prob(Omnibus):                  0.000   Jarque-Bera (JB):               73.582\n",
       "Skew:                           0.163   Prob(JB):                     1.05e-16\n",
       "Kurtosis:                       2.301   Cond. No.                         438.\n",
       "==============================================================================\n",
       "\n",
       "Notes:\n",
       "[1] Standard Errors assume that the covariance matrix of the errors is correctly specified.\n",
       "\"\"\""
      ]
     },
     "execution_count": 49,
     "metadata": {},
     "output_type": "execute_result"
    }
   ],
   "source": [
    "classifier_ols = sm.OLS(labels, features_optimal).fit()\n",
    "classifier_ols.summary()"
   ]
  },
  {
   "cell_type": "code",
   "execution_count": 50,
   "id": "0d697f05",
   "metadata": {},
   "outputs": [],
   "source": [
    "features_optimal = features[:,[0,1,2,3,4,5,7,8,9,11]]"
   ]
  },
  {
   "cell_type": "code",
   "execution_count": 51,
   "id": "8db11983",
   "metadata": {},
   "outputs": [
    {
     "data": {
      "text/html": [
       "<table class=\"simpletable\">\n",
       "<caption>OLS Regression Results</caption>\n",
       "<tr>\n",
       "  <th>Dep. Variable:</th>            <td>y</td>        <th>  R-squared:         </th> <td>   0.395</td> \n",
       "</tr>\n",
       "<tr>\n",
       "  <th>Model:</th>                   <td>OLS</td>       <th>  Adj. R-squared:    </th> <td>   0.393</td> \n",
       "</tr>\n",
       "<tr>\n",
       "  <th>Method:</th>             <td>Least Squares</td>  <th>  F-statistic:       </th> <td>   214.2</td> \n",
       "</tr>\n",
       "<tr>\n",
       "  <th>Date:</th>             <td>Wed, 06 Oct 2021</td> <th>  Prob (F-statistic):</th> <td>2.00e-314</td>\n",
       "</tr>\n",
       "<tr>\n",
       "  <th>Time:</th>                 <td>23:24:52</td>     <th>  Log-Likelihood:    </th> <td> -1391.5</td> \n",
       "</tr>\n",
       "<tr>\n",
       "  <th>No. Observations:</th>      <td>  2966</td>      <th>  AIC:               </th> <td>   2803.</td> \n",
       "</tr>\n",
       "<tr>\n",
       "  <th>Df Residuals:</th>          <td>  2956</td>      <th>  BIC:               </th> <td>   2863.</td> \n",
       "</tr>\n",
       "<tr>\n",
       "  <th>Df Model:</th>              <td>     9</td>      <th>                     </th>     <td> </td>    \n",
       "</tr>\n",
       "<tr>\n",
       "  <th>Covariance Type:</th>      <td>nonrobust</td>    <th>                     </th>     <td> </td>    \n",
       "</tr>\n",
       "</table>\n",
       "<table class=\"simpletable\">\n",
       "<tr>\n",
       "    <td></td>       <th>coef</th>     <th>std err</th>      <th>t</th>      <th>P>|t|</th>  <th>[0.025</th>    <th>0.975]</th>  \n",
       "</tr>\n",
       "<tr>\n",
       "  <th>const</th> <td>   -2.7305</td> <td>    0.136</td> <td>  -20.103</td> <td> 0.000</td> <td>   -2.997</td> <td>   -2.464</td>\n",
       "</tr>\n",
       "<tr>\n",
       "  <th>x1</th>    <td>    0.0279</td> <td>    0.019</td> <td>    1.444</td> <td> 0.149</td> <td>   -0.010</td> <td>    0.066</td>\n",
       "</tr>\n",
       "<tr>\n",
       "  <th>x2</th>    <td>    0.0913</td> <td>    0.020</td> <td>    4.500</td> <td> 0.000</td> <td>    0.051</td> <td>    0.131</td>\n",
       "</tr>\n",
       "<tr>\n",
       "  <th>x3</th>    <td>    0.0769</td> <td>    0.026</td> <td>    3.003</td> <td> 0.003</td> <td>    0.027</td> <td>    0.127</td>\n",
       "</tr>\n",
       "<tr>\n",
       "  <th>x4</th>    <td>    0.0979</td> <td>    0.024</td> <td>    4.117</td> <td> 0.000</td> <td>    0.051</td> <td>    0.144</td>\n",
       "</tr>\n",
       "<tr>\n",
       "  <th>x5</th>    <td>    0.1047</td> <td>    0.021</td> <td>    5.059</td> <td> 0.000</td> <td>    0.064</td> <td>    0.145</td>\n",
       "</tr>\n",
       "<tr>\n",
       "  <th>x6</th>    <td>    0.0438</td> <td>    0.005</td> <td>    8.082</td> <td> 0.000</td> <td>    0.033</td> <td>    0.054</td>\n",
       "</tr>\n",
       "<tr>\n",
       "  <th>x7</th>    <td>    0.1038</td> <td>    0.010</td> <td>   10.607</td> <td> 0.000</td> <td>    0.085</td> <td>    0.123</td>\n",
       "</tr>\n",
       "<tr>\n",
       "  <th>x8</th>    <td>    0.3079</td> <td>    0.007</td> <td>   41.548</td> <td> 0.000</td> <td>    0.293</td> <td>    0.322</td>\n",
       "</tr>\n",
       "<tr>\n",
       "  <th>x9</th>    <td>   -0.0222</td> <td>    0.018</td> <td>   -1.226</td> <td> 0.220</td> <td>   -0.058</td> <td>    0.013</td>\n",
       "</tr>\n",
       "</table>\n",
       "<table class=\"simpletable\">\n",
       "<tr>\n",
       "  <th>Omnibus:</th>       <td>167.441</td> <th>  Durbin-Watson:     </th> <td>   1.846</td>\n",
       "</tr>\n",
       "<tr>\n",
       "  <th>Prob(Omnibus):</th> <td> 0.000</td>  <th>  Jarque-Bera (JB):  </th> <td>  73.693</td>\n",
       "</tr>\n",
       "<tr>\n",
       "  <th>Skew:</th>          <td> 0.163</td>  <th>  Prob(JB):          </th> <td>9.95e-17</td>\n",
       "</tr>\n",
       "<tr>\n",
       "  <th>Kurtosis:</th>      <td> 2.300</td>  <th>  Cond. No.          </th> <td>    434.</td>\n",
       "</tr>\n",
       "</table><br/><br/>Notes:<br/>[1] Standard Errors assume that the covariance matrix of the errors is correctly specified."
      ],
      "text/plain": [
       "<class 'statsmodels.iolib.summary.Summary'>\n",
       "\"\"\"\n",
       "                            OLS Regression Results                            \n",
       "==============================================================================\n",
       "Dep. Variable:                      y   R-squared:                       0.395\n",
       "Model:                            OLS   Adj. R-squared:                  0.393\n",
       "Method:                 Least Squares   F-statistic:                     214.2\n",
       "Date:                Wed, 06 Oct 2021   Prob (F-statistic):          2.00e-314\n",
       "Time:                        23:24:52   Log-Likelihood:                -1391.5\n",
       "No. Observations:                2966   AIC:                             2803.\n",
       "Df Residuals:                    2956   BIC:                             2863.\n",
       "Df Model:                           9                                         \n",
       "Covariance Type:            nonrobust                                         \n",
       "==============================================================================\n",
       "                 coef    std err          t      P>|t|      [0.025      0.975]\n",
       "------------------------------------------------------------------------------\n",
       "const         -2.7305      0.136    -20.103      0.000      -2.997      -2.464\n",
       "x1             0.0279      0.019      1.444      0.149      -0.010       0.066\n",
       "x2             0.0913      0.020      4.500      0.000       0.051       0.131\n",
       "x3             0.0769      0.026      3.003      0.003       0.027       0.127\n",
       "x4             0.0979      0.024      4.117      0.000       0.051       0.144\n",
       "x5             0.1047      0.021      5.059      0.000       0.064       0.145\n",
       "x6             0.0438      0.005      8.082      0.000       0.033       0.054\n",
       "x7             0.1038      0.010     10.607      0.000       0.085       0.123\n",
       "x8             0.3079      0.007     41.548      0.000       0.293       0.322\n",
       "x9            -0.0222      0.018     -1.226      0.220      -0.058       0.013\n",
       "==============================================================================\n",
       "Omnibus:                      167.441   Durbin-Watson:                   1.846\n",
       "Prob(Omnibus):                  0.000   Jarque-Bera (JB):               73.693\n",
       "Skew:                           0.163   Prob(JB):                     9.95e-17\n",
       "Kurtosis:                       2.300   Cond. No.                         434.\n",
       "==============================================================================\n",
       "\n",
       "Notes:\n",
       "[1] Standard Errors assume that the covariance matrix of the errors is correctly specified.\n",
       "\"\"\""
      ]
     },
     "execution_count": 51,
     "metadata": {},
     "output_type": "execute_result"
    }
   ],
   "source": [
    "classifier_ols = sm.OLS(labels, features_optimal).fit()\n",
    "classifier_ols.summary()"
   ]
  },
  {
   "cell_type": "code",
   "execution_count": 52,
   "id": "f250234b",
   "metadata": {},
   "outputs": [],
   "source": [
    "# dropping backlogs column i.e 9 column\n",
    "features_optimal = features[:,[0,1,2,3,4,5,7,8,9]]"
   ]
  },
  {
   "cell_type": "code",
   "execution_count": 53,
   "id": "84451159",
   "metadata": {},
   "outputs": [
    {
     "data": {
      "text/html": [
       "<table class=\"simpletable\">\n",
       "<caption>OLS Regression Results</caption>\n",
       "<tr>\n",
       "  <th>Dep. Variable:</th>            <td>y</td>        <th>  R-squared:         </th> <td>   0.394</td> \n",
       "</tr>\n",
       "<tr>\n",
       "  <th>Model:</th>                   <td>OLS</td>       <th>  Adj. R-squared:    </th> <td>   0.393</td> \n",
       "</tr>\n",
       "<tr>\n",
       "  <th>Method:</th>             <td>Least Squares</td>  <th>  F-statistic:       </th> <td>   240.8</td> \n",
       "</tr>\n",
       "<tr>\n",
       "  <th>Date:</th>             <td>Wed, 06 Oct 2021</td> <th>  Prob (F-statistic):</th> <td>2.64e-315</td>\n",
       "</tr>\n",
       "<tr>\n",
       "  <th>Time:</th>                 <td>23:25:17</td>     <th>  Log-Likelihood:    </th> <td> -1392.3</td> \n",
       "</tr>\n",
       "<tr>\n",
       "  <th>No. Observations:</th>      <td>  2966</td>      <th>  AIC:               </th> <td>   2803.</td> \n",
       "</tr>\n",
       "<tr>\n",
       "  <th>Df Residuals:</th>          <td>  2957</td>      <th>  BIC:               </th> <td>   2857.</td> \n",
       "</tr>\n",
       "<tr>\n",
       "  <th>Df Model:</th>              <td>     8</td>      <th>                     </th>     <td> </td>    \n",
       "</tr>\n",
       "<tr>\n",
       "  <th>Covariance Type:</th>      <td>nonrobust</td>    <th>                     </th>     <td> </td>    \n",
       "</tr>\n",
       "</table>\n",
       "<table class=\"simpletable\">\n",
       "<tr>\n",
       "    <td></td>       <th>coef</th>     <th>std err</th>      <th>t</th>      <th>P>|t|</th>  <th>[0.025</th>    <th>0.975]</th>  \n",
       "</tr>\n",
       "<tr>\n",
       "  <th>const</th> <td>   -2.7397</td> <td>    0.136</td> <td>  -20.199</td> <td> 0.000</td> <td>   -3.006</td> <td>   -2.474</td>\n",
       "</tr>\n",
       "<tr>\n",
       "  <th>x1</th>    <td>    0.0274</td> <td>    0.019</td> <td>    1.415</td> <td> 0.157</td> <td>   -0.011</td> <td>    0.065</td>\n",
       "</tr>\n",
       "<tr>\n",
       "  <th>x2</th>    <td>    0.0913</td> <td>    0.020</td> <td>    4.504</td> <td> 0.000</td> <td>    0.052</td> <td>    0.131</td>\n",
       "</tr>\n",
       "<tr>\n",
       "  <th>x3</th>    <td>    0.0755</td> <td>    0.026</td> <td>    2.951</td> <td> 0.003</td> <td>    0.025</td> <td>    0.126</td>\n",
       "</tr>\n",
       "<tr>\n",
       "  <th>x4</th>    <td>    0.0961</td> <td>    0.024</td> <td>    4.051</td> <td> 0.000</td> <td>    0.050</td> <td>    0.143</td>\n",
       "</tr>\n",
       "<tr>\n",
       "  <th>x5</th>    <td>    0.1051</td> <td>    0.021</td> <td>    5.079</td> <td> 0.000</td> <td>    0.065</td> <td>    0.146</td>\n",
       "</tr>\n",
       "<tr>\n",
       "  <th>x6</th>    <td>    0.0441</td> <td>    0.005</td> <td>    8.133</td> <td> 0.000</td> <td>    0.033</td> <td>    0.055</td>\n",
       "</tr>\n",
       "<tr>\n",
       "  <th>x7</th>    <td>    0.1039</td> <td>    0.010</td> <td>   10.619</td> <td> 0.000</td> <td>    0.085</td> <td>    0.123</td>\n",
       "</tr>\n",
       "<tr>\n",
       "  <th>x8</th>    <td>    0.3079</td> <td>    0.007</td> <td>   41.548</td> <td> 0.000</td> <td>    0.293</td> <td>    0.322</td>\n",
       "</tr>\n",
       "</table>\n",
       "<table class=\"simpletable\">\n",
       "<tr>\n",
       "  <th>Omnibus:</th>       <td>167.263</td> <th>  Durbin-Watson:     </th> <td>   1.844</td>\n",
       "</tr>\n",
       "<tr>\n",
       "  <th>Prob(Omnibus):</th> <td> 0.000</td>  <th>  Jarque-Bera (JB):  </th> <td>  73.649</td>\n",
       "</tr>\n",
       "<tr>\n",
       "  <th>Skew:</th>          <td> 0.163</td>  <th>  Prob(JB):          </th> <td>1.02e-16</td>\n",
       "</tr>\n",
       "<tr>\n",
       "  <th>Kurtosis:</th>      <td> 2.300</td>  <th>  Cond. No.          </th> <td>    434.</td>\n",
       "</tr>\n",
       "</table><br/><br/>Notes:<br/>[1] Standard Errors assume that the covariance matrix of the errors is correctly specified."
      ],
      "text/plain": [
       "<class 'statsmodels.iolib.summary.Summary'>\n",
       "\"\"\"\n",
       "                            OLS Regression Results                            \n",
       "==============================================================================\n",
       "Dep. Variable:                      y   R-squared:                       0.394\n",
       "Model:                            OLS   Adj. R-squared:                  0.393\n",
       "Method:                 Least Squares   F-statistic:                     240.8\n",
       "Date:                Wed, 06 Oct 2021   Prob (F-statistic):          2.64e-315\n",
       "Time:                        23:25:17   Log-Likelihood:                -1392.3\n",
       "No. Observations:                2966   AIC:                             2803.\n",
       "Df Residuals:                    2957   BIC:                             2857.\n",
       "Df Model:                           8                                         \n",
       "Covariance Type:            nonrobust                                         \n",
       "==============================================================================\n",
       "                 coef    std err          t      P>|t|      [0.025      0.975]\n",
       "------------------------------------------------------------------------------\n",
       "const         -2.7397      0.136    -20.199      0.000      -3.006      -2.474\n",
       "x1             0.0274      0.019      1.415      0.157      -0.011       0.065\n",
       "x2             0.0913      0.020      4.504      0.000       0.052       0.131\n",
       "x3             0.0755      0.026      2.951      0.003       0.025       0.126\n",
       "x4             0.0961      0.024      4.051      0.000       0.050       0.143\n",
       "x5             0.1051      0.021      5.079      0.000       0.065       0.146\n",
       "x6             0.0441      0.005      8.133      0.000       0.033       0.055\n",
       "x7             0.1039      0.010     10.619      0.000       0.085       0.123\n",
       "x8             0.3079      0.007     41.548      0.000       0.293       0.322\n",
       "==============================================================================\n",
       "Omnibus:                      167.263   Durbin-Watson:                   1.844\n",
       "Prob(Omnibus):                  0.000   Jarque-Bera (JB):               73.649\n",
       "Skew:                           0.163   Prob(JB):                     1.02e-16\n",
       "Kurtosis:                       2.300   Cond. No.                         434.\n",
       "==============================================================================\n",
       "\n",
       "Notes:\n",
       "[1] Standard Errors assume that the covariance matrix of the errors is correctly specified.\n",
       "\"\"\""
      ]
     },
     "execution_count": 53,
     "metadata": {},
     "output_type": "execute_result"
    }
   ],
   "source": [
    "classifier_ols = sm.OLS(labels, features_optimal).fit()\n",
    "classifier_ols.summary()"
   ]
  },
  {
   "cell_type": "code",
   "execution_count": 54,
   "id": "f22268b6",
   "metadata": {},
   "outputs": [],
   "source": [
    "# dropping out the gender column i.e 1 column\n",
    "features_optimal = features[:,[0,2,3,4,5,7,8,9]]"
   ]
  },
  {
   "cell_type": "code",
   "execution_count": 55,
   "id": "56d2efce",
   "metadata": {},
   "outputs": [
    {
     "data": {
      "text/html": [
       "<table class=\"simpletable\">\n",
       "<caption>OLS Regression Results</caption>\n",
       "<tr>\n",
       "  <th>Dep. Variable:</th>            <td>y</td>        <th>  R-squared:         </th> <td>   0.394</td> \n",
       "</tr>\n",
       "<tr>\n",
       "  <th>Model:</th>                   <td>OLS</td>       <th>  Adj. R-squared:    </th> <td>   0.393</td> \n",
       "</tr>\n",
       "<tr>\n",
       "  <th>Method:</th>             <td>Least Squares</td>  <th>  F-statistic:       </th> <td>   274.8</td> \n",
       "</tr>\n",
       "<tr>\n",
       "  <th>Date:</th>             <td>Wed, 06 Oct 2021</td> <th>  Prob (F-statistic):</th> <td>4.17e-316</td>\n",
       "</tr>\n",
       "<tr>\n",
       "  <th>Time:</th>                 <td>23:25:36</td>     <th>  Log-Likelihood:    </th> <td> -1393.3</td> \n",
       "</tr>\n",
       "<tr>\n",
       "  <th>No. Observations:</th>      <td>  2966</td>      <th>  AIC:               </th> <td>   2803.</td> \n",
       "</tr>\n",
       "<tr>\n",
       "  <th>Df Residuals:</th>          <td>  2958</td>      <th>  BIC:               </th> <td>   2851.</td> \n",
       "</tr>\n",
       "<tr>\n",
       "  <th>Df Model:</th>              <td>     7</td>      <th>                     </th>     <td> </td>    \n",
       "</tr>\n",
       "<tr>\n",
       "  <th>Covariance Type:</th>      <td>nonrobust</td>    <th>                     </th>     <td> </td>    \n",
       "</tr>\n",
       "</table>\n",
       "<table class=\"simpletable\">\n",
       "<tr>\n",
       "    <td></td>       <th>coef</th>     <th>std err</th>      <th>t</th>      <th>P>|t|</th>  <th>[0.025</th>    <th>0.975]</th>  \n",
       "</tr>\n",
       "<tr>\n",
       "  <th>const</th> <td>   -2.7108</td> <td>    0.134</td> <td>  -20.213</td> <td> 0.000</td> <td>   -2.974</td> <td>   -2.448</td>\n",
       "</tr>\n",
       "<tr>\n",
       "  <th>x1</th>    <td>    0.0886</td> <td>    0.020</td> <td>    4.388</td> <td> 0.000</td> <td>    0.049</td> <td>    0.128</td>\n",
       "</tr>\n",
       "<tr>\n",
       "  <th>x2</th>    <td>    0.0740</td> <td>    0.026</td> <td>    2.893</td> <td> 0.004</td> <td>    0.024</td> <td>    0.124</td>\n",
       "</tr>\n",
       "<tr>\n",
       "  <th>x3</th>    <td>    0.0938</td> <td>    0.024</td> <td>    3.963</td> <td> 0.000</td> <td>    0.047</td> <td>    0.140</td>\n",
       "</tr>\n",
       "<tr>\n",
       "  <th>x4</th>    <td>    0.1023</td> <td>    0.021</td> <td>    4.967</td> <td> 0.000</td> <td>    0.062</td> <td>    0.143</td>\n",
       "</tr>\n",
       "<tr>\n",
       "  <th>x5</th>    <td>    0.0439</td> <td>    0.005</td> <td>    8.105</td> <td> 0.000</td> <td>    0.033</td> <td>    0.055</td>\n",
       "</tr>\n",
       "<tr>\n",
       "  <th>x6</th>    <td>    0.1030</td> <td>    0.010</td> <td>   10.549</td> <td> 0.000</td> <td>    0.084</td> <td>    0.122</td>\n",
       "</tr>\n",
       "<tr>\n",
       "  <th>x7</th>    <td>    0.3079</td> <td>    0.007</td> <td>   41.535</td> <td> 0.000</td> <td>    0.293</td> <td>    0.322</td>\n",
       "</tr>\n",
       "</table>\n",
       "<table class=\"simpletable\">\n",
       "<tr>\n",
       "  <th>Omnibus:</th>       <td>166.290</td> <th>  Durbin-Watson:     </th> <td>   1.845</td>\n",
       "</tr>\n",
       "<tr>\n",
       "  <th>Prob(Omnibus):</th> <td> 0.000</td>  <th>  Jarque-Bera (JB):  </th> <td>  73.773</td>\n",
       "</tr>\n",
       "<tr>\n",
       "  <th>Skew:</th>          <td> 0.166</td>  <th>  Prob(JB):          </th> <td>9.56e-17</td>\n",
       "</tr>\n",
       "<tr>\n",
       "  <th>Kurtosis:</th>      <td> 2.302</td>  <th>  Cond. No.          </th> <td>    428.</td>\n",
       "</tr>\n",
       "</table><br/><br/>Notes:<br/>[1] Standard Errors assume that the covariance matrix of the errors is correctly specified."
      ],
      "text/plain": [
       "<class 'statsmodels.iolib.summary.Summary'>\n",
       "\"\"\"\n",
       "                            OLS Regression Results                            \n",
       "==============================================================================\n",
       "Dep. Variable:                      y   R-squared:                       0.394\n",
       "Model:                            OLS   Adj. R-squared:                  0.393\n",
       "Method:                 Least Squares   F-statistic:                     274.8\n",
       "Date:                Wed, 06 Oct 2021   Prob (F-statistic):          4.17e-316\n",
       "Time:                        23:25:36   Log-Likelihood:                -1393.3\n",
       "No. Observations:                2966   AIC:                             2803.\n",
       "Df Residuals:                    2958   BIC:                             2851.\n",
       "Df Model:                           7                                         \n",
       "Covariance Type:            nonrobust                                         \n",
       "==============================================================================\n",
       "                 coef    std err          t      P>|t|      [0.025      0.975]\n",
       "------------------------------------------------------------------------------\n",
       "const         -2.7108      0.134    -20.213      0.000      -2.974      -2.448\n",
       "x1             0.0886      0.020      4.388      0.000       0.049       0.128\n",
       "x2             0.0740      0.026      2.893      0.004       0.024       0.124\n",
       "x3             0.0938      0.024      3.963      0.000       0.047       0.140\n",
       "x4             0.1023      0.021      4.967      0.000       0.062       0.143\n",
       "x5             0.0439      0.005      8.105      0.000       0.033       0.055\n",
       "x6             0.1030      0.010     10.549      0.000       0.084       0.122\n",
       "x7             0.3079      0.007     41.535      0.000       0.293       0.322\n",
       "==============================================================================\n",
       "Omnibus:                      166.290   Durbin-Watson:                   1.845\n",
       "Prob(Omnibus):                  0.000   Jarque-Bera (JB):               73.773\n",
       "Skew:                           0.166   Prob(JB):                     9.56e-17\n",
       "Kurtosis:                       2.302   Cond. No.                         428.\n",
       "==============================================================================\n",
       "\n",
       "Notes:\n",
       "[1] Standard Errors assume that the covariance matrix of the errors is correctly specified.\n",
       "\"\"\""
      ]
     },
     "execution_count": 55,
     "metadata": {},
     "output_type": "execute_result"
    }
   ],
   "source": [
    "classifier_ols = sm.OLS(labels, features_optimal).fit()\n",
    "classifier_ols.summary()"
   ]
  },
  {
   "cell_type": "code",
   "execution_count": 90,
   "id": "9b464ed6",
   "metadata": {},
   "outputs": [
    {
     "name": "stdout",
     "output_type": "stream",
     "text": [
      "Age, internship experience, stream,cgpa are the important factors in determining whether the student is placed or not.\n"
     ]
    }
   ],
   "source": [
    "print('Age, internship experience, stream,cgpa are the important factors in determining whether the student is placed or not.')"
   ]
  },
  {
   "cell_type": "code",
   "execution_count": null,
   "id": "348d1aeb",
   "metadata": {},
   "outputs": [],
   "source": []
  }
 ],
 "metadata": {
  "kernelspec": {
   "display_name": "Python 3",
   "language": "python",
   "name": "python3"
  },
  "language_info": {
   "codemirror_mode": {
    "name": "ipython",
    "version": 3
   },
   "file_extension": ".py",
   "mimetype": "text/x-python",
   "name": "python",
   "nbconvert_exporter": "python",
   "pygments_lexer": "ipython3",
   "version": "3.8.8"
  }
 },
 "nbformat": 4,
 "nbformat_minor": 5
}
